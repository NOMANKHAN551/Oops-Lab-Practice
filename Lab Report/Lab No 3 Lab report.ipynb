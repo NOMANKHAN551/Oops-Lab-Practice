{
 "cells": [
  {
   "cell_type": "markdown",
   "id": "69b28f8e",
   "metadata": {},
   "source": [
    "## LAb Report"
   ]
  },
  {
   "cell_type": "markdown",
   "id": "048fd236",
   "metadata": {},
   "source": [
    "## 1. Make a list that contains the student name, the last four digits of the registration number asan integer, the CGPA as a float, and a list that contains GPA of all semesters. (Nested List)"
   ]
  },
  {
   "cell_type": "code",
   "execution_count": 2,
   "id": "71386a8c",
   "metadata": {},
   "outputs": [],
   "source": [
    "# list cantain student name, reg no and cgpa and all samester GPA\n",
    "student_info = ['Noman Khan',555,3.91,[3.86,3.95]]"
   ]
  },
  {
   "cell_type": "code",
   "execution_count": null,
   "id": "2acb3a68",
   "metadata": {},
   "outputs": [],
   "source": [
    "print(student_info)"
   ]
  },
  {
   "cell_type": "code",
   "execution_count": null,
   "id": "860230c3",
   "metadata": {},
   "outputs": [],
   "source": [
    "Use list inducing in the following nested list and access each and every element.\n",
    "x = [\"a\", [\"bb\", [\"ccc\", \"ddd\"], \"ee\", \"ff\"], \"g\", [\"hh\", \"ii\"], \"j\"]"
   ]
  },
  {
   "cell_type": "code",
   "execution_count": null,
   "id": "f24437db",
   "metadata": {},
   "outputs": [],
   "source": [
    "x = [\"a\", [\"bb\", [\"ccc\", \"ddd\"], \"ee\", \"ff\"], \"g\", [\"hh\", \"ii\"], \"j\"]"
   ]
  },
  {
   "cell_type": "code",
   "execution_count": null,
   "id": "739d95db",
   "metadata": {},
   "outputs": [],
   "source": [
    "x[0]"
   ]
  },
  {
   "cell_type": "code",
   "execution_count": null,
   "id": "f5d8fcec",
   "metadata": {},
   "outputs": [],
   "source": [
    "x[1][0]"
   ]
  },
  {
   "cell_type": "code",
   "execution_count": null,
   "id": "e5600e4e",
   "metadata": {},
   "outputs": [],
   "source": [
    "x[1][1][0]"
   ]
  },
  {
   "cell_type": "code",
   "execution_count": null,
   "id": "b241c11e",
   "metadata": {},
   "outputs": [],
   "source": [
    "x[1][1][1]"
   ]
  },
  {
   "cell_type": "code",
   "execution_count": null,
   "id": "b0e44227",
   "metadata": {},
   "outputs": [],
   "source": [
    "x[1][2]"
   ]
  },
  {
   "cell_type": "code",
   "execution_count": null,
   "id": "bae35255",
   "metadata": {},
   "outputs": [],
   "source": [
    "x[1][3]"
   ]
  },
  {
   "cell_type": "code",
   "execution_count": null,
   "id": "a58c0776",
   "metadata": {},
   "outputs": [],
   "source": [
    "x[2]"
   ]
  },
  {
   "cell_type": "code",
   "execution_count": null,
   "id": "7003159f",
   "metadata": {},
   "outputs": [],
   "source": [
    "x[3][0]"
   ]
  },
  {
   "cell_type": "code",
   "execution_count": null,
   "id": "24f6abe3",
   "metadata": {},
   "outputs": [],
   "source": [
    "x[3][1]"
   ]
  },
  {
   "cell_type": "code",
   "execution_count": null,
   "id": "1ca4ed5b",
   "metadata": {},
   "outputs": [],
   "source": [
    "x[4]"
   ]
  },
  {
   "cell_type": "code",
   "execution_count": null,
   "id": "0ba85dbf",
   "metadata": {},
   "outputs": [],
   "source": []
  }
 ],
 "metadata": {
  "kernelspec": {
   "display_name": "Python 3 (ipykernel)",
   "language": "python",
   "name": "python3"
  },
  "language_info": {
   "codemirror_mode": {
    "name": "ipython",
    "version": 3
   },
   "file_extension": ".py",
   "mimetype": "text/x-python",
   "name": "python",
   "nbconvert_exporter": "python",
   "pygments_lexer": "ipython3",
   "version": "3.11.5"
  }
 },
 "nbformat": 4,
 "nbformat_minor": 5
}
