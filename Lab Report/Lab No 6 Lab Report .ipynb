{
 "cells": [
  {
   "cell_type": "markdown",
   "id": "0f8b740e",
   "metadata": {},
   "source": [
    "# *LAb Report*"
   ]
  },
  {
   "cell_type": "code",
   "execution_count": 1,
   "id": "9357f9fa",
   "metadata": {},
   "outputs": [],
   "source": [
    "import math\n",
    "class Circle:\n",
    "    \"\"\"A class to represent a circle with given radius and calculate the area, circumference, diameter  and volume\n",
    "    \"\"\"\n",
    "    def __init__(self, radius: float = 1):\n",
    "        \"\"\"\n",
    "        Initialize the Circle with a given radius.\n",
    "\n",
    "        Parameters:\n",
    "        radius (float): The radius of the circle. Default is 1.0.\n",
    "        \"\"\"\n",
    "        self.radius = radius\n",
    "\n",
    "    @property\n",
    "    def radius(self):\n",
    "        \"\"\"Get the radius of the circle.\"\"\"\n",
    "        return self._radius\n",
    "\n",
    "    @radius.setter\n",
    "    def radius(self, value: float) -> None:\n",
    "        \"\"\"Set the radius of the circle.\"\"\"\n",
    "        self._radius = value\n",
    "\n",
    "    def volume(self, height: float) -> None:\n",
    "        \"\"\"\n",
    "        Calculate the volume of a cylinder with the circle as the base.\n",
    "\n",
    "        Parameters:\n",
    "        height (float): The height of the cylinder.\n",
    "\n",
    "        Returns:\n",
    "        float: The volume of the cylinder.\n",
    "        \"\"\"\n",
    "        return self.area * height\n",
    "\n",
    "    @property\n",
    "    def area(self) -> float:\n",
    "        \"\"\"Calculate the area of the circle.\"\"\"\n",
    "        from math import pi\n",
    "        return pi * (self._radius ** 2)\n",
    "    @staticmethod\n",
    "    def volume(height: float) -> float:\n",
    "        return self.area * height\n",
    "\n",
    "    @property\n",
    "    def circumference(self) -> float:\n",
    "        \"\"\"Calculate the circumference of the circle.\"\"\"\n",
    "        from math import pi\n",
    "        return 2 * pi * self._radius\n",
    "\n",
    "    @property\n",
    "    def diameter(self) -> float:\n",
    "        \"\"\"Calculate the diameter of the circle.\"\"\"\n",
    "        return self._radius * 2\n",
    "    @classmethod\n",
    "    def unit_circle(cls) -> 'Circle':\n",
    "        \"\"\"Create a Circle instance with a radius of 1.\"\"\"\n",
    "        return cls(1)\n",
    "    def __repr__(self) -> str:\n",
    "        \"\"\"Return a string representation of the Circle instance.\"\"\"\n",
    "        return f\"Circle(radius={self._radius})\"\n",
    "\n",
    "    def __str__(self) -> str:\n",
    "        \"\"\"Return a user-friendly string representation of the Circle.\"\"\"\n",
    "        return f\"Circle with radius: {self._radius}\""
   ]
  },
  {
   "cell_type": "code",
   "execution_count": 2,
   "id": "c381c7df",
   "metadata": {},
   "outputs": [],
   "source": [
    "inst_1 = Circle(2)\n",
    "inst_2 = Circle(15)"
   ]
  },
  {
   "cell_type": "code",
   "execution_count": 3,
   "id": "db00e8ff",
   "metadata": {},
   "outputs": [
    {
     "name": "stdout",
     "output_type": "stream",
     "text": [
      "Circle with radius: 2\n",
      "Circle with radius: 15\n"
     ]
    }
   ],
   "source": [
    "print(inst_1)\n",
    "print(inst_2)"
   ]
  },
  {
   "cell_type": "code",
   "execution_count": 4,
   "id": "25596146",
   "metadata": {},
   "outputs": [
    {
     "name": "stdout",
     "output_type": "stream",
     "text": [
      "Area of inst_1: 12.6\n",
      "Circumference of inst_1: 12.6\n",
      "Diameter of inst_1: 4.0\n",
      "\n",
      "Area of inst_2: 706.9\n",
      "Circumference of inst_2: 94.2\n",
      "Diameter of inst_2: 30.0\n"
     ]
    }
   ],
   "source": [
    "\n",
    "print(f\"Area of inst_1: {inst_1.area:.1f}\")\n",
    "print(f\"Circumference of inst_1: {inst_1.circumference:.1f}\")\n",
    "print(f\"Diameter of inst_1: {inst_1.diameter:.1f}\")\n",
    "print()\n",
    "print(f\"Area of inst_2: {inst_2.area:.1f}\")\n",
    "print(f\"Circumference of inst_2: {inst_2.circumference:.1f}\")\n",
    "print(f\"Diameter of inst_2: {inst_2.diameter:.1f}\")"
   ]
  },
  {
   "cell_type": "code",
   "execution_count": 5,
   "id": "51f5582a",
   "metadata": {},
   "outputs": [
    {
     "name": "stdout",
     "output_type": "stream",
     "text": [
      "mappingproxy({'__dict__': <attribute '__dict__' of 'Circle' objects>,\n",
      "              '__doc__': 'A class to represent a circle with given radius and '\n",
      "                         'calculate the area, circumference, diameter  and '\n",
      "                         'volume\\n'\n",
      "                         '    ',\n",
      "              '__init__': <function Circle.__init__ at 0x0000026376ADE2A0>,\n",
      "              '__module__': '__main__',\n",
      "              '__repr__': <function Circle.__repr__ at 0x0000026376ADE5C0>,\n",
      "              '__str__': <function Circle.__str__ at 0x0000026376ADE660>,\n",
      "              '__weakref__': <attribute '__weakref__' of 'Circle' objects>,\n",
      "              'area': <property object at 0x0000026376ABEF20>,\n",
      "              'circumference': <property object at 0x0000026376ABE2F0>,\n",
      "              'diameter': <property object at 0x0000026376AAAA70>,\n",
      "              'radius': <property object at 0x0000026376ABE480>,\n",
      "              'unit_circle': <classmethod(<function Circle.unit_circle at 0x0000026376ADE520>)>,\n",
      "              'volume': <staticmethod(<function Circle.volume at 0x0000026376ADE200>)>})\n"
     ]
    }
   ],
   "source": [
    "from pprint import pprint\n",
    "pprint(Circle.__dict__)"
   ]
  },
  {
   "cell_type": "code",
   "execution_count": 6,
   "id": "40b390f9",
   "metadata": {},
   "outputs": [
    {
     "name": "stdout",
     "output_type": "stream",
     "text": [
      "mappingproxy({'__dict__': <attribute '__dict__' of 'Circle' objects>,\n",
      "              '__doc__': 'A class to represent a circle with given radius and '\n",
      "                         'calculate the area, circumference, diameter  and '\n",
      "                         'volume\\n'\n",
      "                         '    ',\n",
      "              '__init__': <function Circle.__init__ at 0x0000026376ADE2A0>,\n",
      "              '__module__': '__main__',\n",
      "              '__repr__': <function Circle.__repr__ at 0x0000026376ADE5C0>,\n",
      "              '__str__': <function Circle.__str__ at 0x0000026376ADE660>,\n",
      "              '__weakref__': <attribute '__weakref__' of 'Circle' objects>,\n",
      "              'area': <property object at 0x0000026376ABEF20>,\n",
      "              'circumference': <property object at 0x0000026376ABE2F0>,\n",
      "              'diameter': <property object at 0x0000026376AAAA70>,\n",
      "              'radius': <property object at 0x0000026376ABE480>,\n",
      "              'unit_circle': <classmethod(<function Circle.unit_circle at 0x0000026376ADE520>)>,\n",
      "              'volume': <staticmethod(<function Circle.volume at 0x0000026376ADE200>)>})\n"
     ]
    }
   ],
   "source": [
    "pprint(vars(Circle))"
   ]
  },
  {
   "cell_type": "code",
   "execution_count": 7,
   "id": "05b70196",
   "metadata": {},
   "outputs": [
    {
     "name": "stdout",
     "output_type": "stream",
     "text": [
      "{'_radius': 2}\n"
     ]
    }
   ],
   "source": [
    "print(inst_1.__dict__)"
   ]
  },
  {
   "cell_type": "code",
   "execution_count": 8,
   "id": "c829353d",
   "metadata": {},
   "outputs": [
    {
     "name": "stdout",
     "output_type": "stream",
     "text": [
      "{'_radius': 15}\n"
     ]
    }
   ],
   "source": [
    "print(inst_2.__dict__)"
   ]
  },
  {
   "cell_type": "code",
   "execution_count": 9,
   "id": "c9a268cf",
   "metadata": {},
   "outputs": [
    {
     "name": "stdout",
     "output_type": "stream",
     "text": [
      "Help on class Circle in module __main__:\n",
      "\n",
      "class Circle(builtins.object)\n",
      " |  Circle(radius: float = 1)\n",
      " |  \n",
      " |  A class to represent a circle with given radius and calculate the area, circumference, diameter  and volume\n",
      " |  \n",
      " |  Methods defined here:\n",
      " |  \n",
      " |  __init__(self, radius: float = 1)\n",
      " |      Initialize the Circle with a given radius.\n",
      " |      \n",
      " |      Parameters:\n",
      " |      radius (float): The radius of the circle. Default is 1.0.\n",
      " |  \n",
      " |  __repr__(self) -> str\n",
      " |      Return a string representation of the Circle instance.\n",
      " |  \n",
      " |  __str__(self) -> str\n",
      " |      Return a user-friendly string representation of the Circle.\n",
      " |  \n",
      " |  ----------------------------------------------------------------------\n",
      " |  Class methods defined here:\n",
      " |  \n",
      " |  unit_circle() -> 'Circle' from builtins.type\n",
      " |      Create a Circle instance with a radius of 1.\n",
      " |  \n",
      " |  ----------------------------------------------------------------------\n",
      " |  Static methods defined here:\n",
      " |  \n",
      " |  volume(height: float) -> float\n",
      " |  \n",
      " |  ----------------------------------------------------------------------\n",
      " |  Readonly properties defined here:\n",
      " |  \n",
      " |  area\n",
      " |      Calculate the area of the circle.\n",
      " |  \n",
      " |  circumference\n",
      " |      Calculate the circumference of the circle.\n",
      " |  \n",
      " |  diameter\n",
      " |      Calculate the diameter of the circle.\n",
      " |  \n",
      " |  ----------------------------------------------------------------------\n",
      " |  Data descriptors defined here:\n",
      " |  \n",
      " |  __dict__\n",
      " |      dictionary for instance variables (if defined)\n",
      " |  \n",
      " |  __weakref__\n",
      " |      list of weak references to the object (if defined)\n",
      " |  \n",
      " |  radius\n",
      " |      Get the radius of the circle.\n",
      "\n"
     ]
    }
   ],
   "source": [
    "help(Circle)"
   ]
  },
  {
   "cell_type": "code",
   "execution_count": 10,
   "id": "49d8d8c5",
   "metadata": {},
   "outputs": [
    {
     "name": "stdout",
     "output_type": "stream",
     "text": [
      "A class to represent a circle with given radius and calculate the area, circumference, diameter  and volume\n",
      "    \n",
      "Method: __init__, Docstring: \n",
      "        Initialize the Circle with a given radius.\n",
      "\n",
      "        Parameters:\n",
      "        radius (float): The radius of the circle. Default is 1.0.\n",
      "        , Annotations: {'radius': <class 'float'>}\n",
      "Method: volume, Docstring: None, Annotations: {'height': <class 'float'>, 'return': <class 'float'>}\n",
      "Method: area, Docstring: Calculate the area of the circle., Annotations: {'return': <class 'float'>}\n",
      "Method: circumference, Docstring: Calculate the circumference of the circle., Annotations: {'return': <class 'float'>}\n",
      "Method: diameter, Docstring: Calculate the diameter of the circle., Annotations: {'return': <class 'float'>}\n",
      "Method: __repr__, Docstring: Return a string representation of the Circle instance., Annotations: {'return': <class 'str'>}\n",
      "Method: __str__, Docstring: Return a user-friendly string representation of the Circle., Annotations: {'return': <class 'str'>}\n",
      "Method: diameter, Docstring: Calculate the diameter of the circle., Annotations: {'return': <class 'float'>}\n",
      "Method: unit_circle, Docstring: Create a Circle instance with a radius of 1., Annotations: {'return': 'Circle'}\n"
     ]
    }
   ],
   "source": [
    "print(Circle.__doc__)\n",
    "for method in [\n",
    "    Circle.__init__,\n",
    "    Circle.volume,\n",
    "    Circle.area,\n",
    "    Circle.circumference,\n",
    "    Circle.diameter,\n",
    "    Circle.__repr__,\n",
    "    Circle.__str__,\n",
    "    Circle.diameter,\n",
    "    Circle.unit_circle,]:\n",
    "    if isinstance(method, property):\n",
    "        print(f\"Method: {method.fget.__name__}, Docstring: {method.__doc__}, Annotations: {method.fget.__annotations__}\")\n",
    "    else:\n",
    "        print(f\"Method: {method.__name__}, Docstring: {method.__doc__}, Annotations: {method.__annotations__}\")"
   ]
  },
  {
   "cell_type": "code",
   "execution_count": 11,
   "id": "1507013e",
   "metadata": {},
   "outputs": [
    {
     "name": "stdout",
     "output_type": "stream",
     "text": [
      "Circle with radius: 1\n"
     ]
    }
   ],
   "source": [
    "inst_3 = Circle()\n",
    "print(inst_3)"
   ]
  },
  {
   "cell_type": "code",
   "execution_count": null,
   "id": "72d5c1f3",
   "metadata": {},
   "outputs": [],
   "source": []
  },
  {
   "cell_type": "code",
   "execution_count": null,
   "id": "3377a402",
   "metadata": {},
   "outputs": [],
   "source": []
  }
 ],
 "metadata": {
  "kernelspec": {
   "display_name": "Python 3 (ipykernel)",
   "language": "python",
   "name": "python3"
  },
  "language_info": {
   "codemirror_mode": {
    "name": "ipython",
    "version": 3
   },
   "file_extension": ".py",
   "mimetype": "text/x-python",
   "name": "python",
   "nbconvert_exporter": "python",
   "pygments_lexer": "ipython3",
   "version": "3.11.5"
  }
 },
 "nbformat": 4,
 "nbformat_minor": 5
}
