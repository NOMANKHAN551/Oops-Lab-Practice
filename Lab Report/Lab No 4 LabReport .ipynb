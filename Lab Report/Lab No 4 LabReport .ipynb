{
 "cells": [
  {
   "cell_type": "markdown",
   "id": "94bc190e",
   "metadata": {},
   "source": [
    "# Lab  Report"
   ]
  },
  {
   "cell_type": "markdown",
   "id": "94c90a9b",
   "metadata": {},
   "source": [
    "## a. Make an object and print its x and y coordinates. "
   ]
  },
  {
   "cell_type": "code",
   "execution_count": null,
   "id": "cb8e305d",
   "metadata": {},
   "outputs": [],
   "source": [
    "class Point:\n",
    "    pass"
   ]
  },
  {
   "cell_type": "code",
   "execution_count": null,
   "id": "32955216",
   "metadata": {},
   "outputs": [],
   "source": [
    "import math\n",
    "class Point:\n",
    "    \"\"\"Represents a point in two-dimensional geometric\n",
    "coordinates\n",
    "    Parameters\n",
    "        ----------\n",
    "        x : float\n",
    "        y : float\n",
    "    \"\"\"\n",
    "    def __init__(self, x: float, y: float)->None:\n",
    "        self.x = x\n",
    "        self.y = y\n",
    "    def distance(self, p2)->float:\n",
    "        return math.sqrt((self.x-p2.x)**2 + (self.y-p2.y)**2)\n",
    "    def point(self) -> None:\n",
    "        print(f\"Point({self.x}, {self.y})\")\n",
    "print(Point.__doc__)"
   ]
  },
  {
   "cell_type": "markdown",
   "id": "2f340040",
   "metadata": {},
   "source": [
    "## a. Define point1 and pass two numbers. "
   ]
  },
  {
   "cell_type": "code",
   "execution_count": 1,
   "id": "c5f50bc1",
   "metadata": {},
   "outputs": [
    {
     "ename": "NameError",
     "evalue": "name 'Point' is not defined",
     "output_type": "error",
     "traceback": [
      "\u001b[1;31m---------------------------------------------------------------------------\u001b[0m",
      "\u001b[1;31mNameError\u001b[0m                                 Traceback (most recent call last)",
      "Cell \u001b[1;32mIn[1], line 1\u001b[0m\n\u001b[1;32m----> 1\u001b[0m p1 \u001b[38;5;241m=\u001b[39m Point(\u001b[38;5;241m2\u001b[39m,\u001b[38;5;241m3\u001b[39m)\n",
      "\u001b[1;31mNameError\u001b[0m: name 'Point' is not defined"
     ]
    }
   ],
   "source": [
    "p1 = Point(2,3)"
   ]
  },
  {
   "cell_type": "markdown",
   "id": "7871c088",
   "metadata": {},
   "source": [
    "## b. Make another instance of the point class, say its name is p2. "
   ]
  },
  {
   "cell_type": "code",
   "execution_count": null,
   "id": "9f38e8cf",
   "metadata": {},
   "outputs": [],
   "source": [
    "p2 = Point(4,2)"
   ]
  },
  {
   "cell_type": "markdown",
   "id": "096dd2e9",
   "metadata": {},
   "source": [
    "## c. Print p1 and p2, for this use the print command and pass the point as input. "
   ]
  },
  {
   "cell_type": "code",
   "execution_count": null,
   "id": "ef98894f",
   "metadata": {},
   "outputs": [],
   "source": [
    "print(p1)"
   ]
  },
  {
   "cell_type": "code",
   "execution_count": null,
   "id": "0b0d1ddb",
   "metadata": {},
   "outputs": [],
   "source": [
    "print(p2)"
   ]
  },
  {
   "cell_type": "markdown",
   "id": "7e606a6c",
   "metadata": {},
   "source": [
    "## d. Print the coordinate by using the object and dot operator.\n"
   ]
  },
  {
   "cell_type": "code",
   "execution_count": null,
   "id": "32858b81",
   "metadata": {},
   "outputs": [],
   "source": [
    "print(f\"p1 coordinates is ({p1.x} , {p1.y})\")"
   ]
  },
  {
   "cell_type": "code",
   "execution_count": null,
   "id": "b8155379",
   "metadata": {},
   "outputs": [],
   "source": [
    "print(f\"p2 coordinates is ({p2.x} , {p2.y})\")"
   ]
  },
  {
   "cell_type": "markdown",
   "id": "facf9d01",
   "metadata": {},
   "source": [
    "## e. Add a new method to the point class that can effectively print the points. Print both thepoint using that function."
   ]
  },
  {
   "cell_type": "code",
   "execution_count": null,
   "id": "e971cf06",
   "metadata": {},
   "outputs": [],
   "source": [
    "p1.point()"
   ]
  },
  {
   "cell_type": "code",
   "execution_count": null,
   "id": "0b76ca4d",
   "metadata": {},
   "outputs": [],
   "source": [
    "p2.point()"
   ]
  },
  {
   "cell_type": "markdown",
   "id": "736ff83f",
   "metadata": {},
   "source": [
    "## f. Calculate the distance between these two pints."
   ]
  },
  {
   "cell_type": "code",
   "execution_count": null,
   "id": "77e2badc",
   "metadata": {},
   "outputs": [],
   "source": [
    "Distance = p1.distance(p2)"
   ]
  },
  {
   "cell_type": "code",
   "execution_count": null,
   "id": "3cab46a6",
   "metadata": {},
   "outputs": [],
   "source": [
    "print(f\"Distance B/W two points (p1, p2) is {Distance}\")"
   ]
  }
 ],
 "metadata": {
  "kernelspec": {
   "display_name": "Python 3 (ipykernel)",
   "language": "python",
   "name": "python3"
  },
  "language_info": {
   "codemirror_mode": {
    "name": "ipython",
    "version": 3
   },
   "file_extension": ".py",
   "mimetype": "text/x-python",
   "name": "python",
   "nbconvert_exporter": "python",
   "pygments_lexer": "ipython3",
   "version": "3.11.5"
  }
 },
 "nbformat": 4,
 "nbformat_minor": 5
}
