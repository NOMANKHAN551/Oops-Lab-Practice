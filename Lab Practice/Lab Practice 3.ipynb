{
 "cells": [
  {
   "cell_type": "markdown",
   "id": "da89ede8",
   "metadata": {},
   "source": [
    "# ***Name : Noman Khan***\n",
    "# ***Reg No : 23jzele0551***\n",
    "# **Lab : 03**"
   ]
  },
  {
   "cell_type": "markdown",
   "id": "ae377a2a",
   "metadata": {},
   "source": [
    "# Lab Practice"
   ]
  },
  {
   "cell_type": "markdown",
   "id": "3da3d88b",
   "metadata": {},
   "source": [
    "**List**"
   ]
  },
  {
   "cell_type": "markdown",
   "id": "c83c44c0",
   "metadata": {},
   "source": [
    "1. Make a list of 5 any integers."
   ]
  },
  {
   "cell_type": "code",
   "execution_count": 3,
   "id": "9f8f364e",
   "metadata": {},
   "outputs": [
    {
     "name": "stdout",
     "output_type": "stream",
     "text": [
      "[1, 2, 3, 4, 5]\n"
     ]
    }
   ],
   "source": [
    "lst1 = [1,2,3,4,5]\n",
    "print(lst1)"
   ]
  },
  {
   "cell_type": "markdown",
   "id": "572b9883",
   "metadata": {},
   "source": [
    "Make a list that contains the student's name, the last four digits of the registration number as an integer, CGPA as a float, and a list that contains the GPA of all semesters. (Nested List)"
   ]
  },
  {
   "cell_type": "code",
   "execution_count": 4,
   "id": "4d511e2e",
   "metadata": {},
   "outputs": [
    {
     "name": "stdout",
     "output_type": "stream",
     "text": [
      "['Yahya', 528, 3.91, [3.86, 3.95]]\n"
     ]
    }
   ],
   "source": [
    "student = ['Yahya', 528, 3.91, [3.86,3.95]]\n",
    "print(student)"
   ]
  },
  {
   "cell_type": "code",
   "execution_count": 5,
   "id": "3d9fa22f",
   "metadata": {},
   "outputs": [
    {
     "name": "stdout",
     "output_type": "stream",
     "text": [
      "3.91\n"
     ]
    }
   ],
   "source": [
    "print(student[2])"
   ]
  },
  {
   "cell_type": "markdown",
   "id": "0373c29e",
   "metadata": {},
   "source": [
    "Print the list elements using the while loop and use the length function. (len)"
   ]
  },
  {
   "cell_type": "code",
   "execution_count": 6,
   "id": "f5a55cd5",
   "metadata": {},
   "outputs": [
    {
     "name": "stdout",
     "output_type": "stream",
     "text": [
      "Yahya\n",
      "528\n",
      "3.91\n",
      "[3.86, 3.95]\n"
     ]
    }
   ],
   "source": [
    "i = 0\n",
    "while i < len(student):\n",
    "    print(student[i])\n",
    "    i += 1"
   ]
  },
  {
   "cell_type": "code",
   "execution_count": 7,
   "id": "f31648f8",
   "metadata": {},
   "outputs": [
    {
     "name": "stdout",
     "output_type": "stream",
     "text": [
      "['Yahya', 528, 3.91, [3.86, 3.95]]\n"
     ]
    }
   ],
   "source": [
    "print(student)"
   ]
  },
  {
   "cell_type": "markdown",
   "id": "d83c6cfe",
   "metadata": {},
   "source": [
    "Access the list of all semester GPAs using negative indexing."
   ]
  },
  {
   "cell_type": "code",
   "execution_count": 8,
   "id": "ccb01c1e",
   "metadata": {},
   "outputs": [
    {
     "data": {
      "text/plain": [
       "[3.86, 3.95]"
      ]
     },
     "execution_count": 8,
     "metadata": {},
     "output_type": "execute_result"
    }
   ],
   "source": [
    "student[-1]"
   ]
  },
  {
   "cell_type": "markdown",
   "id": "e74f30e9",
   "metadata": {},
   "source": [
    "Make a list of the first 20 integers using the range function."
   ]
  },
  {
   "cell_type": "code",
   "execution_count": 9,
   "id": "7d111948",
   "metadata": {},
   "outputs": [
    {
     "name": "stdout",
     "output_type": "stream",
     "text": [
      "[1, 2, 3, 4, 5, 6, 7, 8, 9, 10, 11, 12, 13, 14, 15, 16, 17, 18, 19, 20]\n"
     ]
    }
   ],
   "source": [
    "lst2 = [x for x in range(1,21)]\n",
    "print(lst2)"
   ]
  },
  {
   "cell_type": "markdown",
   "id": "768c436c",
   "metadata": {},
   "source": [
    "Make a list of odd integers from 20 to 40 using the range function."
   ]
  },
  {
   "cell_type": "code",
   "execution_count": 10,
   "id": "6117209f",
   "metadata": {},
   "outputs": [
    {
     "name": "stdout",
     "output_type": "stream",
     "text": [
      "[21, 23, 25, 27, 29, 31, 33, 35, 37, 39]\n"
     ]
    }
   ],
   "source": [
    "lst3 = [x for x in range(20,40) if x % 2 != 0]\n",
    "print(lst3)"
   ]
  },
  {
   "cell_type": "markdown",
   "id": "583cc11e",
   "metadata": {},
   "source": [
    "Consider the student list. *Student = [Ibrahim, Husain, Irfan, Ayub, Usman]* Use in and not in operators to ensure that the student is in the list or not."
   ]
  },
  {
   "cell_type": "code",
   "execution_count": 11,
   "id": "1262ad3a",
   "metadata": {},
   "outputs": [],
   "source": [
    "Students = ['Ibrahim', 'Husain', 'Irfan', 'Ayub', 'Usman']"
   ]
  },
  {
   "cell_type": "code",
   "execution_count": 12,
   "id": "437256b5",
   "metadata": {},
   "outputs": [
    {
     "name": "stdout",
     "output_type": "stream",
     "text": [
      "False\n",
      "True\n",
      "True\n",
      "True\n"
     ]
    }
   ],
   "source": [
    "print('Ibrahim1' in Students)\n",
    "print('yahya' not in Students)\n",
    "print('Ayub' in Students)\n",
    "print('usman' not in Students)"
   ]
  },
  {
   "cell_type": "markdown",
   "id": "c650aa99",
   "metadata": {},
   "source": [
    "Print all the student lists in task 8 using the for loop"
   ]
  },
  {
   "cell_type": "code",
   "execution_count": 13,
   "id": "8aaf76f7",
   "metadata": {},
   "outputs": [
    {
     "name": "stdout",
     "output_type": "stream",
     "text": [
      "Ibrahim\n",
      "Husain\n",
      "Irfan\n",
      "Ayub\n",
      "Usman\n"
     ]
    }
   ],
   "source": [
    "for i in Students:\n",
    "    print(i)"
   ]
  },
  {
   "cell_type": "markdown",
   "id": "3ae92e89",
   "metadata": {},
   "source": [
    "Observe what is print, what is the first thing print, what the last thing print. Consider task 8 for the student list.\n",
    "Student [1:3] and student [2:4]"
   ]
  },
  {
   "cell_type": "code",
   "execution_count": 14,
   "id": "1fa501ff",
   "metadata": {},
   "outputs": [
    {
     "data": {
      "text/plain": [
       "['Husain', 'Irfan']"
      ]
     },
     "execution_count": 14,
     "metadata": {},
     "output_type": "execute_result"
    }
   ],
   "source": [
    "Students [1:3]"
   ]
  },
  {
   "cell_type": "code",
   "execution_count": 15,
   "id": "49bd212f",
   "metadata": {},
   "outputs": [
    {
     "data": {
      "text/plain": [
       "['Irfan', 'Ayub']"
      ]
     },
     "execution_count": 15,
     "metadata": {},
     "output_type": "execute_result"
    }
   ],
   "source": [
    "Students [2:4]"
   ]
  },
  {
   "cell_type": "markdown",
   "id": "f2fed882",
   "metadata": {},
   "source": [
    "Make an appropriate list and use and demonstrate the use of the following mutator Methods.\n",
    "* append(obj)\n",
    "* extend(iterable)\n",
    "* insert(index, obj)\n",
    "* remove(obj)\n",
    "* pop([index=-1])"
   ]
  },
  {
   "cell_type": "code",
   "execution_count": 16,
   "id": "706c2a3a",
   "metadata": {},
   "outputs": [
    {
     "data": {
      "text/plain": [
       "['a', 'b', 'c', 'd', 'e', 'f']"
      ]
     },
     "execution_count": 16,
     "metadata": {},
     "output_type": "execute_result"
    }
   ],
   "source": [
    "lst5 = ['a','b','c','d','e','f']\n",
    "lst5"
   ]
  },
  {
   "cell_type": "code",
   "execution_count": 17,
   "id": "0a8cb865",
   "metadata": {},
   "outputs": [
    {
     "data": {
      "text/plain": [
       "['a', 'b', 'c', 'd', 'e', 'f', 'g']"
      ]
     },
     "execution_count": 17,
     "metadata": {},
     "output_type": "execute_result"
    }
   ],
   "source": [
    "lst5.append('g')\n",
    "lst5"
   ]
  },
  {
   "cell_type": "code",
   "execution_count": 18,
   "id": "aacf37e3",
   "metadata": {},
   "outputs": [
    {
     "data": {
      "text/plain": [
       "['a', 'b', 'c', 'd', 'e', 'f', 'g', 'h']"
      ]
     },
     "execution_count": 18,
     "metadata": {},
     "output_type": "execute_result"
    }
   ],
   "source": [
    "lst5.extend('h')\n",
    "lst5"
   ]
  },
  {
   "cell_type": "code",
   "execution_count": 19,
   "id": "50b6cb65",
   "metadata": {},
   "outputs": [
    {
     "ename": "ValueError",
     "evalue": "list.remove(x): x not in list",
     "output_type": "error",
     "traceback": [
      "\u001b[1;31m---------------------------------------------------------------------------\u001b[0m",
      "\u001b[1;31mValueError\u001b[0m                                Traceback (most recent call last)",
      "Cell \u001b[1;32mIn[19], line 1\u001b[0m\n\u001b[1;32m----> 1\u001b[0m lst5\u001b[38;5;241m.\u001b[39mremove(\u001b[38;5;124m'\u001b[39m\u001b[38;5;124mx\u001b[39m\u001b[38;5;124m'\u001b[39m)\n\u001b[0;32m      2\u001b[0m lst5\n",
      "\u001b[1;31mValueError\u001b[0m: list.remove(x): x not in list"
     ]
    }
   ],
   "source": [
    "lst5.remove('x')\n",
    "lst5"
   ]
  },
  {
   "cell_type": "code",
   "execution_count": 20,
   "id": "46ddc399",
   "metadata": {},
   "outputs": [
    {
     "data": {
      "text/plain": [
       "['a', 'b', 'x', 'c', 'd', 'e', 'f', 'g', 'h']"
      ]
     },
     "execution_count": 20,
     "metadata": {},
     "output_type": "execute_result"
    }
   ],
   "source": [
    "lst5.insert(2, 'x')\n",
    "lst5"
   ]
  },
  {
   "cell_type": "code",
   "execution_count": 21,
   "id": "fbcb8c0e",
   "metadata": {},
   "outputs": [
    {
     "data": {
      "text/plain": [
       "'h'"
      ]
     },
     "execution_count": 21,
     "metadata": {},
     "output_type": "execute_result"
    }
   ],
   "source": [
    "lst5.pop(-1)"
   ]
  },
  {
   "cell_type": "markdown",
   "id": "ff6ac1f2",
   "metadata": {},
   "source": [
    "Use list inducing in the following nested list and access each and every element.\n",
    "x = [\"a\", [\"bb\", [\"ccc\", \"ddd\"], \"ee\", \"ff\"], \"g\", [\"hh\", \"ii\"], \"j\"]"
   ]
  },
  {
   "cell_type": "code",
   "execution_count": 22,
   "id": "8fafa0bc",
   "metadata": {},
   "outputs": [],
   "source": [
    "x = [\"a\", [\"bb\", [\"ccc\", \"ddd\"], \"ee\", \"ff\"], \"g\", [\"hh\", \"ii\"], \"j\"]"
   ]
  },
  {
   "cell_type": "code",
   "execution_count": 23,
   "id": "d88a953b",
   "metadata": {},
   "outputs": [
    {
     "name": "stdout",
     "output_type": "stream",
     "text": [
      "a\n"
     ]
    }
   ],
   "source": [
    "print(x[0])"
   ]
  },
  {
   "cell_type": "code",
   "execution_count": 24,
   "id": "40fe680e",
   "metadata": {},
   "outputs": [
    {
     "name": "stdout",
     "output_type": "stream",
     "text": [
      "bb\n"
     ]
    }
   ],
   "source": [
    "print(x[1][0])"
   ]
  },
  {
   "cell_type": "code",
   "execution_count": 25,
   "id": "c8677b4a",
   "metadata": {},
   "outputs": [
    {
     "name": "stdout",
     "output_type": "stream",
     "text": [
      "ccc\n"
     ]
    }
   ],
   "source": [
    "print(x[1][1][0])"
   ]
  },
  {
   "cell_type": "code",
   "execution_count": 26,
   "id": "73918521",
   "metadata": {},
   "outputs": [
    {
     "name": "stdout",
     "output_type": "stream",
     "text": [
      "ddd\n"
     ]
    }
   ],
   "source": [
    "print(x[1][1][1])"
   ]
  },
  {
   "cell_type": "code",
   "execution_count": 27,
   "id": "e8b604b7",
   "metadata": {},
   "outputs": [
    {
     "name": "stdout",
     "output_type": "stream",
     "text": [
      "ee\n"
     ]
    }
   ],
   "source": [
    "print(x[1][2])"
   ]
  },
  {
   "cell_type": "code",
   "execution_count": 28,
   "id": "ae9e4783",
   "metadata": {},
   "outputs": [
    {
     "name": "stdout",
     "output_type": "stream",
     "text": [
      "ff\n"
     ]
    }
   ],
   "source": [
    "print(x[1][3])"
   ]
  },
  {
   "cell_type": "code",
   "execution_count": 29,
   "id": "abf9a595",
   "metadata": {},
   "outputs": [
    {
     "name": "stdout",
     "output_type": "stream",
     "text": [
      "g\n"
     ]
    }
   ],
   "source": [
    "print(x[2])"
   ]
  },
  {
   "cell_type": "code",
   "execution_count": 30,
   "id": "cd635968",
   "metadata": {},
   "outputs": [
    {
     "name": "stdout",
     "output_type": "stream",
     "text": [
      "hh\n"
     ]
    }
   ],
   "source": [
    "print(x[3][0])"
   ]
  },
  {
   "cell_type": "code",
   "execution_count": 31,
   "id": "d9128734",
   "metadata": {},
   "outputs": [
    {
     "name": "stdout",
     "output_type": "stream",
     "text": [
      "ii\n"
     ]
    }
   ],
   "source": [
    "print(x[3][1])"
   ]
  },
  {
   "cell_type": "code",
   "execution_count": 32,
   "id": "f6bcdd56",
   "metadata": {},
   "outputs": [
    {
     "name": "stdout",
     "output_type": "stream",
     "text": [
      "j\n"
     ]
    }
   ],
   "source": [
    "print(x[4])"
   ]
  },
  {
   "cell_type": "markdown",
   "id": "754e83e6",
   "metadata": {},
   "source": [
    "**Tuple**"
   ]
  },
  {
   "cell_type": "markdown",
   "id": "d5704e8a",
   "metadata": {},
   "source": [
    "1. Make a tuple containing first five letters of English. (definition)"
   ]
  },
  {
   "cell_type": "code",
   "execution_count": 33,
   "id": "00559818",
   "metadata": {},
   "outputs": [],
   "source": [
    "tpl1 = ('a','b','c','d','e')"
   ]
  },
  {
   "cell_type": "code",
   "execution_count": 34,
   "id": "8213c650",
   "metadata": {},
   "outputs": [
    {
     "data": {
      "text/plain": [
       "('a', 'b', 'c', 'd', 'e')"
      ]
     },
     "execution_count": 34,
     "metadata": {},
     "output_type": "execute_result"
    }
   ],
   "source": [
    "tpl1"
   ]
  },
  {
   "cell_type": "markdown",
   "id": "a91a1b6f",
   "metadata": {},
   "source": [
    "Use the index to access the third and last element."
   ]
  },
  {
   "cell_type": "code",
   "execution_count": 35,
   "id": "f609bb9f",
   "metadata": {},
   "outputs": [
    {
     "data": {
      "text/plain": [
       "'c'"
      ]
     },
     "execution_count": 35,
     "metadata": {},
     "output_type": "execute_result"
    }
   ],
   "source": [
    "tpl1[2]"
   ]
  },
  {
   "cell_type": "code",
   "execution_count": 36,
   "id": "c098b762",
   "metadata": {},
   "outputs": [
    {
     "data": {
      "text/plain": [
       "'e'"
      ]
     },
     "execution_count": 36,
     "metadata": {},
     "output_type": "execute_result"
    }
   ],
   "source": [
    "tpl1[4]"
   ]
  },
  {
   "cell_type": "markdown",
   "id": "270c22f7",
   "metadata": {},
   "source": [
    "Make an appropriate list and tuple and use different operations that will show that list is mutable and tuple is immutable."
   ]
  },
  {
   "cell_type": "code",
   "execution_count": 37,
   "id": "1f3c29c9",
   "metadata": {},
   "outputs": [],
   "source": [
    "lst1 = ['a', 'b', 'c', 'd', 'e']"
   ]
  },
  {
   "cell_type": "code",
   "execution_count": 38,
   "id": "77c09a20",
   "metadata": {},
   "outputs": [
    {
     "data": {
      "text/plain": [
       "['a', 'b', 'c', 'd', 'e']"
      ]
     },
     "execution_count": 38,
     "metadata": {},
     "output_type": "execute_result"
    }
   ],
   "source": [
    "lst1"
   ]
  },
  {
   "cell_type": "code",
   "execution_count": 39,
   "id": "d141f36f",
   "metadata": {},
   "outputs": [
    {
     "name": "stdout",
     "output_type": "stream",
     "text": [
      "['a', 'b', 'c', 'd', 'e', 'f']\n"
     ]
    }
   ],
   "source": [
    "# .append()\n",
    "lst1.append('f')    # list is mutable\n",
    "print(lst1)"
   ]
  },
  {
   "cell_type": "code",
   "execution_count": 40,
   "id": "7ecadff2",
   "metadata": {},
   "outputs": [
    {
     "ename": "AttributeError",
     "evalue": "'tuple' object has no attribute 'append'",
     "output_type": "error",
     "traceback": [
      "\u001b[1;31m---------------------------------------------------------------------------\u001b[0m",
      "\u001b[1;31mAttributeError\u001b[0m                            Traceback (most recent call last)",
      "Cell \u001b[1;32mIn[40], line 2\u001b[0m\n\u001b[0;32m      1\u001b[0m \u001b[38;5;66;03m# .append()\u001b[39;00m\n\u001b[1;32m----> 2\u001b[0m tpl1\u001b[38;5;241m.\u001b[39mappend(\u001b[38;5;124m'\u001b[39m\u001b[38;5;124mf\u001b[39m\u001b[38;5;124m'\u001b[39m)    \u001b[38;5;66;03m# tuple is immutable and show error just after running\u001b[39;00m\n\u001b[0;32m      3\u001b[0m \u001b[38;5;28mprint\u001b[39m(tpl1)\n",
      "\u001b[1;31mAttributeError\u001b[0m: 'tuple' object has no attribute 'append'"
     ]
    }
   ],
   "source": [
    "# .append()\n",
    "tpl1.append('f')    # tuple is immutable and show error just after running\n",
    "print(tpl1)"
   ]
  },
  {
   "cell_type": "code",
   "execution_count": 41,
   "id": "f075d8ce",
   "metadata": {},
   "outputs": [
    {
     "data": {
      "text/plain": [
       "['a', 'b', 'e', 'd', 'e', 'f']"
      ]
     },
     "execution_count": 41,
     "metadata": {},
     "output_type": "execute_result"
    }
   ],
   "source": [
    "lst1[2] = 'e'   # mutable\n",
    "lst1"
   ]
  },
  {
   "cell_type": "code",
   "execution_count": 42,
   "id": "0ae48610",
   "metadata": {},
   "outputs": [
    {
     "ename": "TypeError",
     "evalue": "'tuple' object does not support item assignment",
     "output_type": "error",
     "traceback": [
      "\u001b[1;31m---------------------------------------------------------------------------\u001b[0m",
      "\u001b[1;31mTypeError\u001b[0m                                 Traceback (most recent call last)",
      "Cell \u001b[1;32mIn[42], line 1\u001b[0m\n\u001b[1;32m----> 1\u001b[0m tpl1[\u001b[38;5;241m0\u001b[39m] \u001b[38;5;241m=\u001b[39m \u001b[38;5;124m'\u001b[39m\u001b[38;5;124mx\u001b[39m\u001b[38;5;124m'\u001b[39m   \u001b[38;5;66;03m# immutable it shwo an error juct after running\u001b[39;00m\n\u001b[0;32m      2\u001b[0m tpl1\n",
      "\u001b[1;31mTypeError\u001b[0m: 'tuple' object does not support item assignment"
     ]
    }
   ],
   "source": [
    "tpl1[0] = 'x'   # immutable it shwo an error juct after running\n",
    "tpl1"
   ]
  },
  {
   "cell_type": "markdown",
   "id": "17b98e45",
   "metadata": {},
   "source": [
    "Make a tuple num = (1, 2, 3, 4). a. Observe the output num[2] = 9"
   ]
  },
  {
   "cell_type": "code",
   "execution_count": 43,
   "id": "027b263b",
   "metadata": {},
   "outputs": [
    {
     "ename": "NameError",
     "evalue": "name 'num' is not defined",
     "output_type": "error",
     "traceback": [
      "\u001b[1;31m---------------------------------------------------------------------------\u001b[0m",
      "\u001b[1;31mNameError\u001b[0m                                 Traceback (most recent call last)",
      "Cell \u001b[1;32mIn[43], line 1\u001b[0m\n\u001b[1;32m----> 1\u001b[0m num[\u001b[38;5;241m2\u001b[39m] \u001b[38;5;241m=\u001b[39m \u001b[38;5;241m9\u001b[39m\n",
      "\u001b[1;31mNameError\u001b[0m: name 'num' is not defined"
     ]
    }
   ],
   "source": [
    "num[2] = 9  # i abserb that tuple is immutable"
   ]
  },
  {
   "cell_type": "markdown",
   "id": "7b3cdcc9",
   "metadata": {},
   "source": [
    "**Dictionary**\n"
   ]
  },
  {
   "cell_type": "markdown",
   "id": "f1d256c5",
   "metadata": {},
   "source": [
    "consider the following structure and observe. Fd= { ‘one’: ‘aik’, , ‘three’: ‘teen’, ‘ten’ : ‘das’, ‘fifteen’ : ‘pandra’}\n",
    "Bracket type\n",
    "* Print Fd\n",
    "* Fd[‘one’]\n",
    "* Fd[‘ten’]\n",
    "* del Fd[‘three’] and then print Fd.\n",
    "* Len(Fd).\n",
    "* Use the key method and print the list of keys.\n",
    "* Use the value function to print the list of values.\n",
    "* Observe the output of Fd.items().\n",
    "* Observe the output Fd.has_key(‘one) and Fd.has_key(‘two’) and think where such type of output will help and required.\n",
    "* To copy the dictionary, one may use one of the following. Verify by printing copy and alias.\n",
    "* copy = Fd.copy()\n",
    "* alias = Fd\n",
    "* Now let alias[‘three’] = ‘3’, now print alias and observe the result.\n",
    "* Also let copy[‘three’] = ‘3’, now print copy and observe the result."
   ]
  },
  {
   "cell_type": "code",
   "execution_count": 44,
   "id": "c622ee2f",
   "metadata": {},
   "outputs": [
    {
     "name": "stdout",
     "output_type": "stream",
     "text": [
      "<class 'dict'>\n"
     ]
    }
   ],
   "source": [
    "fd= { 'one': 'aik', 'three': 'teen', 'ten' : 'das', 'fifteen' : 'pandra'}\n",
    "print(type({}))"
   ]
  },
  {
   "cell_type": "code",
   "execution_count": 45,
   "id": "ab057985",
   "metadata": {},
   "outputs": [
    {
     "name": "stdout",
     "output_type": "stream",
     "text": [
      "{'one': 'aik', 'three': 'teen', 'ten': 'das', 'fifteen': 'pandra'}\n"
     ]
    }
   ],
   "source": [
    "print(fd)"
   ]
  },
  {
   "cell_type": "code",
   "execution_count": 46,
   "id": "28ca5f56",
   "metadata": {},
   "outputs": [
    {
     "data": {
      "text/plain": [
       "'aik'"
      ]
     },
     "execution_count": 46,
     "metadata": {},
     "output_type": "execute_result"
    }
   ],
   "source": [
    "fd['one']"
   ]
  },
  {
   "cell_type": "code",
   "execution_count": 47,
   "id": "36c6d0ad",
   "metadata": {},
   "outputs": [
    {
     "data": {
      "text/plain": [
       "'das'"
      ]
     },
     "execution_count": 47,
     "metadata": {},
     "output_type": "execute_result"
    }
   ],
   "source": [
    "fd['ten']"
   ]
  },
  {
   "cell_type": "code",
   "execution_count": 48,
   "id": "27e2007e",
   "metadata": {},
   "outputs": [
    {
     "name": "stdout",
     "output_type": "stream",
     "text": [
      "{'one': 'aik', 'ten': 'das', 'fifteen': 'pandra'}\n"
     ]
    }
   ],
   "source": [
    "del fd['three']\n",
    "print(fd)"
   ]
  },
  {
   "cell_type": "code",
   "execution_count": 49,
   "id": "2a78c358",
   "metadata": {},
   "outputs": [
    {
     "data": {
      "text/plain": [
       "3"
      ]
     },
     "execution_count": 49,
     "metadata": {},
     "output_type": "execute_result"
    }
   ],
   "source": [
    "len(fd)"
   ]
  },
  {
   "cell_type": "code",
   "execution_count": 50,
   "id": "7bcfb21b",
   "metadata": {},
   "outputs": [
    {
     "data": {
      "text/plain": [
       "dict_keys(['one', 'ten', 'fifteen'])"
      ]
     },
     "execution_count": 50,
     "metadata": {},
     "output_type": "execute_result"
    }
   ],
   "source": [
    "fd.keys()"
   ]
  },
  {
   "cell_type": "code",
   "execution_count": 51,
   "id": "2076e3a7",
   "metadata": {},
   "outputs": [
    {
     "data": {
      "text/plain": [
       "dict_values(['aik', 'das', 'pandra'])"
      ]
     },
     "execution_count": 51,
     "metadata": {},
     "output_type": "execute_result"
    }
   ],
   "source": [
    "fd.values()"
   ]
  },
  {
   "cell_type": "code",
   "execution_count": 52,
   "id": "181e345a",
   "metadata": {},
   "outputs": [
    {
     "data": {
      "text/plain": [
       "dict_items([('one', 'aik'), ('ten', 'das'), ('fifteen', 'pandra')])"
      ]
     },
     "execution_count": 52,
     "metadata": {},
     "output_type": "execute_result"
    }
   ],
   "source": [
    "fd.items()"
   ]
  },
  {
   "cell_type": "code",
   "execution_count": 53,
   "id": "d76759a9",
   "metadata": {},
   "outputs": [
    {
     "ename": "AttributeError",
     "evalue": "'dict' object has no attribute 'has_key'",
     "output_type": "error",
     "traceback": [
      "\u001b[1;31m---------------------------------------------------------------------------\u001b[0m",
      "\u001b[1;31mAttributeError\u001b[0m                            Traceback (most recent call last)",
      "Cell \u001b[1;32mIn[53], line 1\u001b[0m\n\u001b[1;32m----> 1\u001b[0m fd\u001b[38;5;241m.\u001b[39mhas_key(\u001b[38;5;124m'\u001b[39m\u001b[38;5;124mone\u001b[39m\u001b[38;5;124m'\u001b[39m)\n",
      "\u001b[1;31mAttributeError\u001b[0m: 'dict' object has no attribute 'has_key'"
     ]
    }
   ],
   "source": [
    "fd.has_key('one')   # in ptython 3 .has_key methode were remove after running it show error"
   ]
  },
  {
   "cell_type": "markdown",
   "id": "988941cc",
   "metadata": {},
   "source": [
    " Observe the output Fd.has_key(‘one) and Fd.has_key(‘two’) and think where such type of output will help and required"
   ]
  },
  {
   "cell_type": "markdown",
   "id": "f06d06ea",
   "metadata": {},
   "source": [
    "To copy the dictionary, one may use one of the following. Verify by printing copy and alias.\n",
    "* copy = Fd.copy()\n",
    "* alias = Fd\n",
    "* Now let alias[‘three’] = ‘3’, now print alias and observe the result.\n",
    "* Also let copy[‘three’] = ‘3’, now print copy and observe the result."
   ]
  },
  {
   "cell_type": "code",
   "execution_count": 54,
   "id": "4b725d32",
   "metadata": {},
   "outputs": [],
   "source": [
    "copy = fd.copy()"
   ]
  },
  {
   "cell_type": "code",
   "execution_count": 55,
   "id": "1becae3e",
   "metadata": {},
   "outputs": [],
   "source": [
    "alias = copy"
   ]
  },
  {
   "cell_type": "code",
   "execution_count": 56,
   "id": "41de8694",
   "metadata": {},
   "outputs": [
    {
     "data": {
      "text/plain": [
       "{'one': 'aik', 'ten': 'das', 'fifteen': 'pandra', 'three': '3'}"
      ]
     },
     "execution_count": 56,
     "metadata": {},
     "output_type": "execute_result"
    }
   ],
   "source": [
    "alias['three'] = '3'\n",
    "alias"
   ]
  },
  {
   "cell_type": "code",
   "execution_count": 57,
   "id": "cbb3a828",
   "metadata": {},
   "outputs": [
    {
     "data": {
      "text/plain": [
       "{'one': 'aik', 'ten': 'das', 'fifteen': 'pandra', 'three': '3'}"
      ]
     },
     "execution_count": 57,
     "metadata": {},
     "output_type": "execute_result"
    }
   ],
   "source": [
    "copy['three'] = '3'\n",
    "copy"
   ]
  },
  {
   "cell_type": "markdown",
   "id": "26947adc",
   "metadata": {},
   "source": [
    "Make an appropriate dictionary and use the following built-in function and observe the\n",
    "result.\n",
    "* .clear()\n",
    "* .get()\n",
    "* .item()\n",
    "* .keys()\n",
    "* .vallues()"
   ]
  },
  {
   "cell_type": "code",
   "execution_count": 58,
   "id": "9cee8459",
   "metadata": {},
   "outputs": [
    {
     "data": {
      "text/plain": [
       "{'a': 1, 'b': 2, 'c': 3, 'd': 4, 'f': 5}"
      ]
     },
     "execution_count": 58,
     "metadata": {},
     "output_type": "execute_result"
    }
   ],
   "source": [
    "dict1 = {'a': 1, 'b': 2, 'c': 3, 'd': 4, 'f':5}\n",
    "dict1"
   ]
  },
  {
   "cell_type": "code",
   "execution_count": 59,
   "id": "bb74699f",
   "metadata": {},
   "outputs": [
    {
     "data": {
      "text/plain": [
       "2"
      ]
     },
     "execution_count": 59,
     "metadata": {},
     "output_type": "execute_result"
    }
   ],
   "source": [
    "dict1.get('b')    #.get()"
   ]
  },
  {
   "cell_type": "code",
   "execution_count": 60,
   "id": "137776ae",
   "metadata": {},
   "outputs": [
    {
     "data": {
      "text/plain": [
       "2"
      ]
     },
     "execution_count": 60,
     "metadata": {},
     "output_type": "execute_result"
    }
   ],
   "source": [
    "dict1.get('b')    #.get()"
   ]
  },
  {
   "cell_type": "code",
   "execution_count": 61,
   "id": "f8d51267",
   "metadata": {},
   "outputs": [
    {
     "data": {
      "text/plain": [
       "5"
      ]
     },
     "execution_count": 61,
     "metadata": {},
     "output_type": "execute_result"
    }
   ],
   "source": [
    "dict1.get('f')  # .get()"
   ]
  },
  {
   "cell_type": "code",
   "execution_count": 62,
   "id": "99dd9b22",
   "metadata": {},
   "outputs": [
    {
     "data": {
      "text/plain": [
       "dict_items([('a', 1), ('b', 2), ('c', 3), ('d', 4), ('f', 5)])"
      ]
     },
     "execution_count": 62,
     "metadata": {},
     "output_type": "execute_result"
    }
   ],
   "source": [
    "dict1.items()     #  .items()"
   ]
  },
  {
   "cell_type": "code",
   "execution_count": 63,
   "id": "cabcecc0",
   "metadata": {},
   "outputs": [
    {
     "data": {
      "text/plain": [
       "dict_keys(['a', 'b', 'c', 'd', 'f'])"
      ]
     },
     "execution_count": 63,
     "metadata": {},
     "output_type": "execute_result"
    }
   ],
   "source": [
    "dict1.keys()     # .keys()"
   ]
  },
  {
   "cell_type": "code",
   "execution_count": 64,
   "id": "44345063",
   "metadata": {},
   "outputs": [
    {
     "data": {
      "text/plain": [
       "dict_values([1, 2, 3, 4, 5])"
      ]
     },
     "execution_count": 64,
     "metadata": {},
     "output_type": "execute_result"
    }
   ],
   "source": [
    "dict1.values()       # .values()"
   ]
  },
  {
   "cell_type": "code",
   "execution_count": 65,
   "id": "56e67d0c",
   "metadata": {},
   "outputs": [],
   "source": [
    "dict1.clear()          # .clear()"
   ]
  },
  {
   "cell_type": "code",
   "execution_count": 66,
   "id": "f343206b",
   "metadata": {},
   "outputs": [
    {
     "data": {
      "text/plain": [
       "{}"
      ]
     },
     "execution_count": 66,
     "metadata": {},
     "output_type": "execute_result"
    }
   ],
   "source": [
    "dict1"
   ]
  },
  {
   "cell_type": "markdown",
   "id": "5d08755c",
   "metadata": {},
   "source": [
    "**List comprehension:**"
   ]
  },
  {
   "cell_type": "markdown",
   "id": "a4034bc6",
   "metadata": {},
   "source": [
    "a. Consider the following code and print the square."
   ]
  },
  {
   "cell_type": "code",
   "execution_count": 67,
   "id": "529a549f",
   "metadata": {},
   "outputs": [
    {
     "data": {
      "text/plain": [
       "[0, 1, 4, 9, 16, 25, 36, 49, 64, 81]"
      ]
     },
     "execution_count": 67,
     "metadata": {},
     "output_type": "execute_result"
    }
   ],
   "source": [
    "squares = []   # this simple way to print squares of number  from 1 to 10\n",
    "for x in range(10):\n",
    " squares.append(x * x)\n",
    "squares"
   ]
  },
  {
   "cell_type": "markdown",
   "id": "55243292",
   "metadata": {},
   "source": [
    "Replace the above code with the following. Print the square. This sample one-line code is called list comprehension."
   ]
  },
  {
   "cell_type": "code",
   "execution_count": 68,
   "id": "e0e5a7cd",
   "metadata": {},
   "outputs": [
    {
     "data": {
      "text/plain": [
       "[0, 1, 4, 9, 16, 25, 36, 49, 64, 81]"
      ]
     },
     "execution_count": 68,
     "metadata": {},
     "output_type": "execute_result"
    }
   ],
   "source": [
    "squares = [x * x for x in range(10)]  # this list comprehension way to print squares of number  from 1 to 10\n",
    "squares"
   ]
  },
  {
   "cell_type": "code",
   "execution_count": 69,
   "id": "4914dd18",
   "metadata": {},
   "outputs": [
    {
     "ename": "SyntaxError",
     "evalue": "invalid syntax (202750627.py, line 1)",
     "output_type": "error",
     "traceback": [
      "\u001b[1;36m  Cell \u001b[1;32mIn[69], line 1\u001b[1;36m\u001b[0m\n\u001b[1;33m    Change x*x by any function of x and observe the resulting list.\u001b[0m\n\u001b[1;37m           ^\u001b[0m\n\u001b[1;31mSyntaxError\u001b[0m\u001b[1;31m:\u001b[0m invalid syntax\n"
     ]
    }
   ],
   "source": [
    "Change x*x by any function of x and observe the resulting list."
   ]
  },
  {
   "cell_type": "code",
   "execution_count": 70,
   "id": "498ff2a3",
   "metadata": {},
   "outputs": [
    {
     "data": {
      "text/plain": [
       "[0, 1, 2, 3, 4, 5, 6, 7, 8, 9]"
      ]
     },
     "execution_count": 70,
     "metadata": {},
     "output_type": "execute_result"
    }
   ],
   "source": [
    "squares = [x for x in range(10)] \n",
    "squares"
   ]
  },
  {
   "cell_type": "markdown",
   "id": "fd0880e5",
   "metadata": {},
   "source": [
    "List comprehensions can filter values based on some arbitrary condition that decides whether or not the resulting value becomes a part of the output list."
   ]
  },
  {
   "cell_type": "code",
   "execution_count": 71,
   "id": "66d61ee4",
   "metadata": {},
   "outputs": [
    {
     "data": {
      "text/plain": [
       "[0, 4, 16, 36, 64]"
      ]
     },
     "execution_count": 71,
     "metadata": {},
     "output_type": "execute_result"
    }
   ],
   "source": [
    "even_squares = [x * x for x in range(10) if x % 2 == 0]   # list  comperhension\n",
    "even_squares"
   ]
  },
  {
   "cell_type": "markdown",
   "id": "87ff61be",
   "metadata": {},
   "source": [
    "The generalized syntax: values = [expression for item in collection if condition]\n",
    "This new list comprehension can be transformed into an equivalent for-loop:"
   ]
  },
  {
   "cell_type": "code",
   "execution_count": 72,
   "id": "f29580c4",
   "metadata": {},
   "outputs": [
    {
     "data": {
      "text/plain": [
       "[0, 4, 16, 36, 64]"
      ]
     },
     "execution_count": 72,
     "metadata": {},
     "output_type": "execute_result"
    }
   ],
   "source": [
    "even_squares = []           #  simple form to print number with for loop\n",
    "for x in range(10):\n",
    "    if x % 2 == 0:\n",
    "        even_squares.append(x * x)\n",
    "even_squares"
   ]
  },
  {
   "cell_type": "markdown",
   "id": "15ab17dd",
   "metadata": {},
   "source": [
    "**Dictionary comprehension:**"
   ]
  },
  {
   "cell_type": "code",
   "execution_count": 73,
   "id": "80fed574",
   "metadata": {},
   "outputs": [
    {
     "ename": "SyntaxError",
     "evalue": "invalid syntax (3406164579.py, line 1)",
     "output_type": "error",
     "traceback": [
      "\u001b[1;36m  Cell \u001b[1;32mIn[73], line 1\u001b[1;36m\u001b[0m\n\u001b[1;33m    a. { x: x * x for x in range(5) }\u001b[0m\n\u001b[1;37m       ^\u001b[0m\n\u001b[1;31mSyntaxError\u001b[0m\u001b[1;31m:\u001b[0m invalid syntax\n"
     ]
    }
   ],
   "source": [
    "a. { x: x * x for x in range(5) }"
   ]
  },
  {
   "cell_type": "code",
   "execution_count": 74,
   "id": "5d06bdf1",
   "metadata": {},
   "outputs": [],
   "source": [
    "a = { x: x * x for x in range(5) }"
   ]
  },
  {
   "cell_type": "code",
   "execution_count": 75,
   "id": "42d4e904",
   "metadata": {},
   "outputs": [
    {
     "data": {
      "text/plain": [
       "{0: 0, 1: 1, 2: 4, 3: 9, 4: 16}"
      ]
     },
     "execution_count": 75,
     "metadata": {},
     "output_type": "execute_result"
    }
   ],
   "source": [
    "a"
   ]
  },
  {
   "cell_type": "code",
   "execution_count": null,
   "id": "13fc4dd2",
   "metadata": {},
   "outputs": [],
   "source": []
  },
  {
   "cell_type": "code",
   "execution_count": null,
   "id": "1f4389c5",
   "metadata": {},
   "outputs": [],
   "source": []
  },
  {
   "cell_type": "code",
   "execution_count": null,
   "id": "931f0c58",
   "metadata": {},
   "outputs": [],
   "source": []
  },
  {
   "cell_type": "code",
   "execution_count": null,
   "id": "22d48ba2",
   "metadata": {},
   "outputs": [],
   "source": []
  },
  {
   "cell_type": "code",
   "execution_count": null,
   "id": "e852ec8c",
   "metadata": {},
   "outputs": [],
   "source": []
  },
  {
   "cell_type": "code",
   "execution_count": null,
   "id": "450b3139",
   "metadata": {},
   "outputs": [],
   "source": []
  },
  {
   "cell_type": "code",
   "execution_count": null,
   "id": "946371d8",
   "metadata": {},
   "outputs": [],
   "source": []
  },
  {
   "cell_type": "code",
   "execution_count": null,
   "id": "d64bc90f",
   "metadata": {},
   "outputs": [],
   "source": []
  },
  {
   "cell_type": "code",
   "execution_count": null,
   "id": "1e089a38",
   "metadata": {},
   "outputs": [],
   "source": []
  },
  {
   "cell_type": "code",
   "execution_count": null,
   "id": "bcab971d",
   "metadata": {},
   "outputs": [],
   "source": []
  },
  {
   "cell_type": "code",
   "execution_count": null,
   "id": "dcafbbdb",
   "metadata": {},
   "outputs": [],
   "source": []
  },
  {
   "cell_type": "code",
   "execution_count": null,
   "id": "f15675a3",
   "metadata": {},
   "outputs": [],
   "source": []
  },
  {
   "cell_type": "code",
   "execution_count": null,
   "id": "c084c58d",
   "metadata": {},
   "outputs": [],
   "source": []
  },
  {
   "cell_type": "code",
   "execution_count": null,
   "id": "6c012759",
   "metadata": {},
   "outputs": [],
   "source": []
  },
  {
   "cell_type": "code",
   "execution_count": null,
   "id": "cb7e256a",
   "metadata": {},
   "outputs": [],
   "source": []
  },
  {
   "cell_type": "code",
   "execution_count": null,
   "id": "199aa059",
   "metadata": {},
   "outputs": [],
   "source": []
  },
  {
   "cell_type": "code",
   "execution_count": null,
   "id": "88538860",
   "metadata": {},
   "outputs": [],
   "source": []
  },
  {
   "cell_type": "code",
   "execution_count": null,
   "id": "04cc363b",
   "metadata": {},
   "outputs": [],
   "source": []
  },
  {
   "cell_type": "code",
   "execution_count": null,
   "id": "a4b147ac",
   "metadata": {},
   "outputs": [],
   "source": []
  },
  {
   "cell_type": "code",
   "execution_count": null,
   "id": "65b44823",
   "metadata": {},
   "outputs": [],
   "source": []
  },
  {
   "cell_type": "code",
   "execution_count": null,
   "id": "f36a5f59",
   "metadata": {},
   "outputs": [],
   "source": []
  },
  {
   "cell_type": "code",
   "execution_count": null,
   "id": "9e5a2c19",
   "metadata": {},
   "outputs": [],
   "source": []
  },
  {
   "cell_type": "code",
   "execution_count": null,
   "id": "62914937",
   "metadata": {},
   "outputs": [],
   "source": []
  },
  {
   "cell_type": "code",
   "execution_count": null,
   "id": "cb7c37f8",
   "metadata": {},
   "outputs": [],
   "source": []
  }
 ],
 "metadata": {
  "kernelspec": {
   "display_name": "Python 3 (ipykernel)",
   "language": "python",
   "name": "python3"
  },
  "language_info": {
   "codemirror_mode": {
    "name": "ipython",
    "version": 3
   },
   "file_extension": ".py",
   "mimetype": "text/x-python",
   "name": "python",
   "nbconvert_exporter": "python",
   "pygments_lexer": "ipython3",
   "version": "3.11.5"
  }
 },
 "nbformat": 4,
 "nbformat_minor": 5
}
