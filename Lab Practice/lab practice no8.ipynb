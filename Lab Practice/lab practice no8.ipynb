{
 "cells": [
  {
   "cell_type": "markdown",
   "id": "a1e23217",
   "metadata": {},
   "source": [
    "# ***Name : Noman Khan***\n",
    "# ***Reg No : 23jzele0551***\n",
    "# **Lab : 08**"
   ]
  },
  {
   "cell_type": "markdown",
   "id": "1b8ff779",
   "metadata": {},
   "source": [
    "# *Lab Practice*"
   ]
  },
  {
   "cell_type": "markdown",
   "id": "02793811",
   "metadata": {},
   "source": [
    "**Problem No 01**\n",
    "**Rectangle -> Square -> Cube**"
   ]
  },
  {
   "cell_type": "markdown",
   "id": "d117b8c9",
   "metadata": {},
   "source": [
    "* Construct a **rectangle** class \n",
    "* Inherit a it by **square** class from **rectangle** class.\n",
    "* create a class Cube that inherits from **Square** and extends the functionality of **.area()** (inherited from the Rectangle class through Square) to ***calculate the surface area and volume of a Cube*** instance:\n",
    "* Create two instances of the cube class and call both the instance methods. \n"
   ]
  },
  {
   "cell_type": "code",
   "execution_count": 11,
   "id": "3e3a9080",
   "metadata": {},
   "outputs": [],
   "source": [
    "class Rectangle:\n",
    "    def __init__(self, width, height):\n",
    "        self.width = width\n",
    "        self.height = height\n",
    "\n",
    "    def area(self):\n",
    "        return self.width * self.height\n",
    "\n",
    "    def __str__(self):\n",
    "        return f\"Rectangle [Width: {self.width}, Height: {self.height}, Area: {self.area()}]\""
   ]
  },
  {
   "cell_type": "code",
   "execution_count": 12,
   "id": "257abd1a",
   "metadata": {},
   "outputs": [],
   "source": [
    "class Square(Rectangle):\n",
    "    def __init__(self, side):\n",
    "        super().__init__(side, side)\n",
    "\n",
    "    def __str__(self):\n",
    "        return f\"Square [Side: {self.width}, Area: {self.area()}]\""
   ]
  },
  {
   "cell_type": "code",
   "execution_count": 13,
   "id": "b833f222",
   "metadata": {},
   "outputs": [],
   "source": [
    "class Cube(Square):\n",
    "    def __init__(self, side):\n",
    "        super().__init__(side)\n",
    "\n",
    "    def surface_area(self):\n",
    "        return 6 * super().area()\n",
    "\n",
    "    def volume(self):\n",
    "        return self.width ** 3\n",
    "\n",
    "    def __str__(self):\n",
    "        return (f\"Cube [Side: {self.width}, Surface Area: {self.surface_area()}, \"\n",
    "                f\"Volume: {self.volume()}]\")"
   ]
  },
  {
   "cell_type": "code",
   "execution_count": 14,
   "id": "17fb5448",
   "metadata": {},
   "outputs": [],
   "source": [
    "cube1 = Cube(3)\n",
    "cube2 = Cube(5)"
   ]
  },
  {
   "cell_type": "code",
   "execution_count": 15,
   "id": "3cc892df",
   "metadata": {},
   "outputs": [
    {
     "name": "stdout",
     "output_type": "stream",
     "text": [
      "Cube 1 Details:\n",
      "Cube [Side: 3, Surface Area: 54, Volume: 27]\n",
      "\n",
      "Cube 2 Details:\n",
      "Cube [Side: 5, Surface Area: 150, Volume: 125]\n"
     ]
    }
   ],
   "source": [
    "print(\"Cube 1 Details:\")\n",
    "print(cube1)\n",
    "print(\"\\nCube 2 Details:\")\n",
    "print(cube2)"
   ]
  },
  {
   "cell_type": "markdown",
   "id": "29cec75f",
   "metadata": {},
   "source": [
    "**Problem No 02**\n",
    "**Extent the HR System**"
   ]
  },
  {
   "cell_type": "markdown",
   "id": "10884194",
   "metadata": {},
   "source": [
    "* Start adding the new classes to the exixting class. \n",
    "**ProductivitySystem tracks productivity based on employee roles. There are different employee roles:**\n",
    "* **Managers:** They walk around yelling at people, telling them what to do. They’re salaried employees and make more money.\n",
    "* **Secretaries:** They do all the paperwork for managers and ensure that everything gets billed and payed on time. They’re also salaried employees but make less money.\n",
    "* **Sales employees:** They make a lot of phone calls to sell products. They have a salary, but they also get commissions for sales.\n",
    "* **Factory workers:** They manufacture the products for the company. They’re paid by the hour.\n",
    "* First, you add a Manager class that derives from **SalaryEmployee**. The class exposes a **.work()* method that the productivity system will use. The method takes the **hours** that the employee worked.\n",
    "* Then you add **Secretary**, **SalesPerson**, and **FactoryWorker** and then implement the **.work()** interface, so they can be used by the productivity system\n"
   ]
  },
  {
   "cell_type": "code",
   "execution_count": 1,
   "id": "0847b0ad",
   "metadata": {},
   "outputs": [],
   "source": [
    "class Payroll_system:\n",
    "    def calculate_payroll(self, employees):\n",
    "        print(\"Calculate Payroll\")\n",
    "        print(\"===========================\")\n",
    "        for employee in employees:\n",
    "            print(f\"Payroll for: {employee.id} - {employee.name}\")\n",
    "            print(f\"- Check amount: {employee.calculate_payroll()}\")\n",
    "            print()"
   ]
  },
  {
   "cell_type": "code",
   "execution_count": 2,
   "id": "fe71ad9a",
   "metadata": {},
   "outputs": [],
   "source": [
    "class Employee:\n",
    "    def __init__(self, id, name):\n",
    "        self.id = id\n",
    "        self.name = name"
   ]
  },
  {
   "cell_type": "code",
   "execution_count": 3,
   "id": "b8991ff7",
   "metadata": {},
   "outputs": [],
   "source": [
    "class Salary_employee(Employee):\n",
    "    def __init__(self, id, name, weekly_salary):\n",
    "        super().__init__(id, name)\n",
    "        self.weekly_salary = weekly_salary\n",
    "\n",
    "    def calculate_payroll(self):\n",
    "        return self.weekly_salary"
   ]
  },
  {
   "cell_type": "code",
   "execution_count": 4,
   "id": "e8f2f55a",
   "metadata": {},
   "outputs": [],
   "source": [
    "class Hourly_employee(Employee):\n",
    "    def __init__(self, id, name, hours_worked, hourly_rate):\n",
    "        super().__init__(id, name)\n",
    "        self.hours_worked = hours_worked\n",
    "        self.hourly_rate = hourly_rate\n",
    "\n",
    "    def calculate_payroll(self):\n",
    "        return self.hours_worked * self.hourly_rate"
   ]
  },
  {
   "cell_type": "code",
   "execution_count": 5,
   "id": "bbf77d6b",
   "metadata": {},
   "outputs": [],
   "source": [
    "class Commission_employee(Salary_employee):\n",
    "    def __init__(self, id, name, weekly_salary, commission):\n",
    "        super().__init__(id, name, weekly_salary)\n",
    "        self.commission = commission\n",
    "\n",
    "    def calculate_payroll(self):\n",
    "        fixed = super().calculate_payroll()\n",
    "        return fixed + self.commission"
   ]
  },
  {
   "cell_type": "code",
   "execution_count": 6,
   "id": "5418d2c0",
   "metadata": {},
   "outputs": [],
   "source": [
    "salary_employee = Salary_employee(551, \"Noman khan\", 1500)\n",
    "hourly_employee = Hourly_employee(529, \"Idrees\", 40, 25)\n",
    "commission_employee = Commission_employee(550, \"waqas\", 1000, 250)"
   ]
  },
  {
   "cell_type": "code",
   "execution_count": 7,
   "id": "36daed59",
   "metadata": {},
   "outputs": [
    {
     "name": "stdout",
     "output_type": "stream",
     "text": [
      "Calculate Payroll\n",
      "===========================\n",
      "Payroll for: 551 - Noman khan\n",
      "- Check amount: 1500\n",
      "\n",
      "Payroll for: 529 - Idrees\n",
      "- Check amount: 1000\n",
      "\n",
      "Payroll for: 550 - waqas\n",
      "- Check amount: 1250\n",
      "\n"
     ]
    }
   ],
   "source": [
    "payroll_system = Payroll_system()\n",
    "employees = [salary_employee, hourly_employee, commission_employee]\n",
    "payroll_system.calculate_payroll(employees)"
   ]
  },
  {
   "cell_type": "code",
   "execution_count": 8,
   "id": "08f141f0",
   "metadata": {},
   "outputs": [],
   "source": [
    "class Manager_role(Salary_employee):\n",
    "    def work(self, hours):\n",
    "        print(f\"{self.name} oversees and delegates tasks for {hours} hours.\")\n",
    "\n",
    "class Secretary_role(Salary_employee):\n",
    "    def work(self, hours):\n",
    "        print(f\"{self.name} efficiently organizes and manages documents for {hours} hours.\")\n",
    "\n",
    "class SalesPerson_role(Commission_employee):\n",
    "    def work(self, hours):\n",
    "        print(f\"{self.name} engages with clients and closes deals for {hours} hours.\")\n",
    "\n",
    "class FactoryWorker_role(Hourly_employee):\n",
    "    def work(self, hours):\n",
    "        print(f\"{self.name} diligently assembles products for {hours} hours.\")\n"
   ]
  },
  {
   "cell_type": "code",
   "execution_count": 14,
   "id": "bedb7462",
   "metadata": {},
   "outputs": [],
   "source": [
    "class Productivity_system:\n",
    "    def Track(self, employees, hours):\n",
    "        print(\"Productivity System Tracking\")\n",
    "        print('-----------------------------')\n",
    "        for employee in employees:\n",
    "            employee.work(hours)\n",
    "            print()"
   ]
  },
  {
   "cell_type": "code",
   "execution_count": 15,
   "id": "b055d3b2",
   "metadata": {},
   "outputs": [],
   "source": [
    "Manager = Manager_role(551, 'Noman khan', 3000)\n",
    "Secretary = Secretary_role(550, 'waqas', 1500)\n",
    "SalesPerson = SalesPerson_role(529, 'Muhammad Idrees', 23, 40)\n",
    "FactoryWorker = FactoryWorker_role(545, 'Abbas ', 34, 55)"
   ]
  },
  {
   "cell_type": "code",
   "execution_count": 16,
   "id": "7d3bcec5",
   "metadata": {},
   "outputs": [],
   "source": [
    "employees = [Manager, Secretary, SalesPerson, FactoryWorker]"
   ]
  },
  {
   "cell_type": "code",
   "execution_count": 17,
   "id": "34e8e0a6",
   "metadata": {},
   "outputs": [],
   "source": [
    "productivity_system = Productivity_system()"
   ]
  },
  {
   "cell_type": "code",
   "execution_count": 18,
   "id": "ea6c11ad",
   "metadata": {},
   "outputs": [
    {
     "name": "stdout",
     "output_type": "stream",
     "text": [
      "Productivity System Tracking\n",
      "-----------------------------\n",
      "Noman khan oversees and delegates tasks for 44 hours.\n",
      "\n",
      "waqas efficiently organizes and manages documents for 44 hours.\n",
      "\n",
      "Muhammad Idrees engages with clients and closes deals for 44 hours.\n",
      "\n",
      "Abbas  diligently assembles products for 44 hours.\n",
      "\n"
     ]
    }
   ],
   "source": [
    "productivity_system.Track(employees, 44)"
   ]
  }
 ],
 "metadata": {
  "kernelspec": {
   "display_name": "Python 3 (ipykernel)",
   "language": "python",
   "name": "python3"
  },
  "language_info": {
   "codemirror_mode": {
    "name": "ipython",
    "version": 3
   },
   "file_extension": ".py",
   "mimetype": "text/x-python",
   "name": "python",
   "nbconvert_exporter": "python",
   "pygments_lexer": "ipython3",
   "version": "3.11.5"
  }
 },
 "nbformat": 4,
 "nbformat_minor": 5
}
