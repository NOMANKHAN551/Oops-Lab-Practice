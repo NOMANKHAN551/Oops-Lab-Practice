{
 "cells": [
  {
   "cell_type": "markdown",
   "id": "efcf7915",
   "metadata": {},
   "source": [
    "# ***Name : Noman Khan***\n",
    "# ***Req No : 23jzele0551***\n",
    "# **Lab : 02**"
   ]
  },
  {
   "cell_type": "markdown",
   "id": "ad075322",
   "metadata": {},
   "source": [
    "# Lab practice"
   ]
  },
  {
   "cell_type": "markdown",
   "id": "cf81c072",
   "metadata": {},
   "source": [
    "## **String formatting**"
   ]
  },
  {
   "cell_type": "markdown",
   "id": "e7e7467a",
   "metadata": {},
   "source": [
    "## 1. Observe the output of the following if:"
   ]
  },
  {
   "cell_type": "code",
   "execution_count": 24,
   "id": "c4eea2ba",
   "metadata": {},
   "outputs": [
    {
     "name": "stdout",
     "output_type": "stream",
     "text": [
      "Hello, Bob\n",
      "Hey Bob, there is a 0xbadc0ffee error!\n",
      "Hey Bob, there is a 0xbadc0ffee error!\n"
     ]
    }
   ],
   "source": [
    "errno = 50159747054\n",
    "name = 'Bob'\n",
    "print('Hello, %s' % name)\n",
    "print('Hey %s, there is a 0x%x error!' % (name, errno))\n",
    "print('Hey %(name)s, there is a 0x%(errno)x error!' % { \"name\": name, \"errno\": errno })"
   ]
  },
  {
   "cell_type": "markdown",
   "id": "f5dd2e05",
   "metadata": {},
   "source": [
    "## 2. Observe the output of: (Mostly used)"
   ]
  },
  {
   "cell_type": "code",
   "execution_count": 25,
   "id": "30ce93c6",
   "metadata": {},
   "outputs": [
    {
     "name": "stdout",
     "output_type": "stream",
     "text": [
      "Hello, Bob\n"
     ]
    }
   ],
   "source": [
    "print('Hello, {}'.format(name))"
   ]
  },
  {
   "cell_type": "markdown",
   "id": "9d915e7f",
   "metadata": {},
   "source": [
    "## 3. Observe the output of: (Recommended for Python 3.6+)"
   ]
  },
  {
   "cell_type": "code",
   "execution_count": 26,
   "id": "af45ced2",
   "metadata": {},
   "outputs": [
    {
     "name": "stdout",
     "output_type": "stream",
     "text": [
      "Hello, Bob!\n"
     ]
    }
   ],
   "source": [
    "print(f'Hello, {name}!')"
   ]
  },
  {
   "cell_type": "markdown",
   "id": "d5b8e80b",
   "metadata": {},
   "source": [
    "## 4. Observe the output of:"
   ]
  },
  {
   "cell_type": "code",
   "execution_count": 27,
   "id": "d46be3f0",
   "metadata": {},
   "outputs": [
    {
     "data": {
      "text/plain": [
       "'Hey, Bob!'"
      ]
     },
     "execution_count": 27,
     "metadata": {},
     "output_type": "execute_result"
    }
   ],
   "source": [
    "# a:\n",
    "from string import Template\n",
    "2\n",
    "t = Template('Hey, $name!')\n",
    "t.substitute(name=name)"
   ]
  },
  {
   "cell_type": "code",
   "execution_count": 28,
   "id": "e55f44de",
   "metadata": {},
   "outputs": [
    {
     "data": {
      "text/plain": [
       "'Hey Bob, there is a 0xbadc0ffee error!'"
      ]
     },
     "execution_count": 28,
     "metadata": {},
     "output_type": "execute_result"
    }
   ],
   "source": [
    "# b:\n",
    "templ_string = 'Hey $name, there is a $error error!'\n",
    "Template(templ_string).substitute(name=name, error=hex(errno))"
   ]
  },
  {
   "cell_type": "markdown",
   "id": "d6d8ba78",
   "metadata": {},
   "source": [
    "## Built-in Function:"
   ]
  },
  {
   "cell_type": "markdown",
   "id": "615e52c7",
   "metadata": {},
   "source": [
    "## i. Use len() and find the length of three lists and two strings. "
   ]
  },
  {
   "cell_type": "code",
   "execution_count": 29,
   "id": "fe835756",
   "metadata": {},
   "outputs": [
    {
     "name": "stdout",
     "output_type": "stream",
     "text": [
      "7\n",
      "7\n",
      "4\n"
     ]
    }
   ],
   "source": [
    "l1 = [2,4,5,6,7,8,9]\n",
    "l2 = ['a','b','u','hello', 3.6,8,99.8]\n",
    "l3 = ['i','am','yahya','ahmad']\n",
    "print(len(l1))\n",
    "print(len(l2))\n",
    "print(len(l3))"
   ]
  },
  {
   "cell_type": "markdown",
   "id": "66d46126",
   "metadata": {},
   "source": [
    "## i. Use len() and find the length of three lists and two strings. "
   ]
  },
  {
   "cell_type": "code",
   "execution_count": 30,
   "id": "7a542630",
   "metadata": {},
   "outputs": [
    {
     "name": "stdout",
     "output_type": "stream",
     "text": [
      "15\n",
      "16\n"
     ]
    }
   ],
   "source": [
    "str1 = 'who are you bro'\n",
    "str2 = 'I am yahya ahmad'\n",
    "print(len(str1))\n",
    "print(len(str2))"
   ]
  },
  {
   "cell_type": "markdown",
   "id": "9b85d40a",
   "metadata": {},
   "source": [
    "## ii. Use for three example .is_integer()."
   ]
  },
  {
   "cell_type": "code",
   "execution_count": 31,
   "id": "c19b449b",
   "metadata": {},
   "outputs": [
    {
     "data": {
      "text/plain": [
       "False"
      ]
     },
     "execution_count": 31,
     "metadata": {},
     "output_type": "execute_result"
    }
   ],
   "source": [
    "a = 2.6\n",
    "a.is_integer()"
   ]
  },
  {
   "cell_type": "code",
   "execution_count": 32,
   "id": "fd3f88e6",
   "metadata": {},
   "outputs": [
    {
     "data": {
      "text/plain": [
       "True"
      ]
     },
     "execution_count": 32,
     "metadata": {},
     "output_type": "execute_result"
    }
   ],
   "source": [
    "b = 35.0\n",
    "b.is_integer()"
   ]
  },
  {
   "cell_type": "code",
   "execution_count": 33,
   "id": "b031b07d",
   "metadata": {},
   "outputs": [
    {
     "data": {
      "text/plain": [
       "True"
      ]
     },
     "execution_count": 33,
     "metadata": {},
     "output_type": "execute_result"
    }
   ],
   "source": [
    "c=3349.0\n",
    "c.is_integer()"
   ]
  },
  {
   "cell_type": "markdown",
   "id": "f227a40f",
   "metadata": {},
   "source": [
    "## iii. Use for three example .conjugate()"
   ]
  },
  {
   "cell_type": "code",
   "execution_count": 34,
   "id": "cd6485a8",
   "metadata": {},
   "outputs": [
    {
     "name": "stdout",
     "output_type": "stream",
     "text": [
      "(9-9j)\n",
      "(3-12j)\n"
     ]
    }
   ],
   "source": [
    "c = 9 + 9j\n",
    "d = 3 + 12j\n",
    "print(c.conjugate())\n",
    "print(d.conjugate())"
   ]
  },
  {
   "cell_type": "code",
   "execution_count": 35,
   "id": "674d00dc",
   "metadata": {},
   "outputs": [
    {
     "ename": "SyntaxError",
     "evalue": "invalid syntax (2579718657.py, line 1)",
     "output_type": "error",
     "traceback": [
      "\u001b[1;36m  Cell \u001b[1;32mIn[35], line 1\u001b[1;36m\u001b[0m\n\u001b[1;33m    **Function**\u001b[0m\n\u001b[1;37m    ^\u001b[0m\n\u001b[1;31mSyntaxError\u001b[0m\u001b[1;31m:\u001b[0m invalid syntax\n"
     ]
    }
   ],
   "source": [
    "**Function**"
   ]
  },
  {
   "cell_type": "code",
   "execution_count": 36,
   "id": "9d91f998",
   "metadata": {},
   "outputs": [
    {
     "ename": "SyntaxError",
     "evalue": "invalid syntax (178418413.py, line 1)",
     "output_type": "error",
     "traceback": [
      "\u001b[1;36m  Cell \u001b[1;32mIn[36], line 1\u001b[1;36m\u001b[0m\n\u001b[1;33m    Define a **function** that will take the name and registration number of a student and print it.\u001b[0m\n\u001b[1;37m           ^\u001b[0m\n\u001b[1;31mSyntaxError\u001b[0m\u001b[1;31m:\u001b[0m invalid syntax\n"
     ]
    }
   ],
   "source": [
    "Define a **function** that will take the name and registration number of a student and print it.\n",
    "Include appropriate docstrings.\n",
    "* The argument pass will like positional arguments.\n",
    "* The arguments passing will like keyword arguments.\n",
    "* The arguments passing will like default arguments.\n",
    "* Pass the arguments of one style to the other.\n",
    "* Passing less number of arguments and check the error message.\n",
    "* Verify that whether positional argument follows keyword argument"
   ]
  },
  {
   "cell_type": "code",
   "execution_count": 37,
   "id": "c6a97107",
   "metadata": {},
   "outputs": [],
   "source": [
    "def student():  # define simple function\n",
    "    pass"
   ]
  },
  {
   "cell_type": "code",
   "execution_count": 38,
   "id": "0ec47483",
   "metadata": {},
   "outputs": [
    {
     "name": "stdout",
     "output_type": "stream",
     "text": [
      " The function give us Name and Reg No of student\n",
      "        take parameter as Name and Reg No\n",
      "        and return student Name and Reg No\n",
      "    \n"
     ]
    }
   ],
   "source": [
    "def student(name=\"Enter Name\",reg_no=\"Enter Reg No\"):  \n",
    "    \"\"\" The function give us Name and Reg No of student\n",
    "        take parameter as Name and Reg No\n",
    "        and return student Name and Reg No\n",
    "    \"\"\"\n",
    "    student = name,reg_no\n",
    "    return student\n",
    "print(student.__doc__)"
   ]
  },
  {
   "cell_type": "code",
   "execution_count": 39,
   "id": "cb1f7a54",
   "metadata": {},
   "outputs": [
    {
     "name": "stdout",
     "output_type": "stream",
     "text": [
      "('Yahya Ahmad', '23jzele0528')\n"
     ]
    }
   ],
   "source": [
    "print(student('Yahya Ahmad','23jzele0528')) #positional argument"
   ]
  },
  {
   "cell_type": "code",
   "execution_count": 40,
   "id": "52f514d8",
   "metadata": {},
   "outputs": [
    {
     "name": "stdout",
     "output_type": "stream",
     "text": [
      "('Yahya Ahmad', '23jzele0528')\n"
     ]
    }
   ],
   "source": [
    "print(student(name='Yahya Ahmad',reg_no='23jzele0528')) # keyword argument"
   ]
  },
  {
   "cell_type": "code",
   "execution_count": 41,
   "id": "613d8bfe",
   "metadata": {},
   "outputs": [
    {
     "name": "stdout",
     "output_type": "stream",
     "text": [
      "('Enter Name', 'Enter Reg No')\n"
     ]
    }
   ],
   "source": [
    "print(student()) # default parameter"
   ]
  },
  {
   "cell_type": "code",
   "execution_count": 42,
   "id": "0f8a89ff",
   "metadata": {},
   "outputs": [
    {
     "name": "stdout",
     "output_type": "stream",
     "text": [
      "('Yahya Ahmad', '23jzele0528')\n"
     ]
    }
   ],
   "source": [
    "def student(name,reg_no='0000'):  # function with one default parameter\n",
    "    student = name,reg_no\n",
    "    return student\n",
    "print(student(name='Yahya Ahmad',reg_no='23jzele0528'))  # argument pass of one style to another style"
   ]
  },
  {
   "cell_type": "code",
   "execution_count": 43,
   "id": "44f80e44",
   "metadata": {},
   "outputs": [],
   "source": [
    "def student(name,reg_no):  # function with no default parameter\n",
    "    student = name,reg_no\n",
    "    return student"
   ]
  },
  {
   "cell_type": "code",
   "execution_count": 44,
   "id": "d15f8b13",
   "metadata": {},
   "outputs": [
    {
     "ename": "TypeError",
     "evalue": "student() missing 1 required positional argument: 'reg_no'",
     "output_type": "error",
     "traceback": [
      "\u001b[1;31m---------------------------------------------------------------------------\u001b[0m",
      "\u001b[1;31mTypeError\u001b[0m                                 Traceback (most recent call last)",
      "Cell \u001b[1;32mIn[44], line 1\u001b[0m\n\u001b[1;32m----> 1\u001b[0m \u001b[38;5;28mprint\u001b[39m(student(\u001b[38;5;124m'\u001b[39m\u001b[38;5;124mYahya\u001b[39m\u001b[38;5;124m'\u001b[39m))\n",
      "\u001b[1;31mTypeError\u001b[0m: student() missing 1 required positional argument: 'reg_no'"
     ]
    }
   ],
   "source": [
    "print(student('Yahya'))  # student() missing 1 required positional argument: 'reg_no'"
   ]
  },
  {
   "cell_type": "code",
   "execution_count": null,
   "id": "efdbac71",
   "metadata": {},
   "outputs": [],
   "source": [
    "print(student(name='Yahya','23jze;e0528')) # error: positional argument follows keyword argument"
   ]
  },
  {
   "cell_type": "code",
   "execution_count": null,
   "id": "c49e9924",
   "metadata": {},
   "outputs": [],
   "source": [
    " Task No  02"
   ]
  },
  {
   "cell_type": "code",
   "execution_count": null,
   "id": "a3942498",
   "metadata": {},
   "outputs": [],
   "source": [
    "Define a function that will take the parameters as current and resistance and will output the\n",
    "voltage across the resistance. Include appropriate docstrings.\n",
    "* The argument pass will like positional arguments.\n",
    "* The arguments passing will like keyword arguments.\n",
    "* The arguments passing will like default arguments.\n",
    "* Pass the arguments of one style to the other.\n",
    "* Passing less number of arguments and check the error message.\n",
    "* Verify that whether positional argument follows keyword argument."
   ]
  },
  {
   "cell_type": "code",
   "execution_count": null,
   "id": "4550a8e6",
   "metadata": {},
   "outputs": [],
   "source": [
    "def voltage():\n",
    "    pass"
   ]
  },
  {
   "cell_type": "code",
   "execution_count": null,
   "id": "f0132730",
   "metadata": {},
   "outputs": [],
   "source": [
    "def voltage(current=1,resistance=1):\n",
    "    \"\"\"\n",
    "    Calculate the voltage across a resistor using Ohm's Law.\n",
    "    Parameters:\n",
    "    current (float): \n",
    "    resistance (float)\n",
    "    Returns:\n",
    "    The voltage across the resistor (in volts).\n",
    "    \"\"\"\n",
    "    voltage = current * resistance\n",
    "    return voltage\n",
    "print(voltage.__doc__)"
   ]
  },
  {
   "cell_type": "code",
   "execution_count": null,
   "id": "ae892b15",
   "metadata": {},
   "outputs": [],
   "source": [
    "print(voltage(4,8)) # positional argument"
   ]
  },
  {
   "cell_type": "code",
   "execution_count": null,
   "id": "6e4eff95",
   "metadata": {},
   "outputs": [],
   "source": [
    "print(voltage(current=6,resistance=4)) # keyword argument"
   ]
  },
  {
   "cell_type": "code",
   "execution_count": null,
   "id": "44400c49",
   "metadata": {},
   "outputs": [],
   "source": [
    "def voltage(current=1,resistance=1):   # function with one default parameter\n",
    "    voltage = current * resistance\n",
    "    return voltage   # argument pass of one style to another style "
   ]
  },
  {
   "cell_type": "code",
   "execution_count": null,
   "id": "b8f3d5e4",
   "metadata": {},
   "outputs": [],
   "source": [
    "print(voltage(current=23,resistance=10))"
   ]
  },
  {
   "cell_type": "code",
   "execution_count": null,
   "id": "fc7da653",
   "metadata": {},
   "outputs": [],
   "source": [
    "def voltage(current,resistance):   # function without default parameter\n",
    "    voltage = current * resistance\n",
    "    return voltage"
   ]
  },
  {
   "cell_type": "code",
   "execution_count": null,
   "id": "b5ba1e8a",
   "metadata": {},
   "outputs": [],
   "source": [
    "print(voltage(5)) # voltage() missing 1 required positional argument: 'resistance'"
   ]
  },
  {
   "cell_type": "code",
   "execution_count": null,
   "id": "4bb3e520",
   "metadata": {},
   "outputs": [],
   "source": [
    "print(voltage(current=8,29) # positional argument follows keyword argument"
   ]
  },
  {
   "cell_type": "code",
   "execution_count": null,
   "id": "ea148508",
   "metadata": {},
   "outputs": [],
   "source": [
    "Task No 03"
   ]
  },
  {
   "cell_type": "code",
   "execution_count": null,
   "id": "4e7791e0",
   "metadata": {},
   "outputs": [],
   "source": [
    "Define a function with *name charge_from_solar* and pass the state of charge (SOC) to the\n",
    "function. If SOC is less than 20% display charging if it is above 90% do nothing and return and if it\n",
    "is in between display that battery will be charge and there is --- % of charge in the battery. Include\n",
    "3 appropriate docstrings. Print the doc string. Also add annotation to the function parameters and\n",
    "return type. "
   ]
  },
  {
   "cell_type": "code",
   "execution_count": null,
   "id": "a2dac681",
   "metadata": {},
   "outputs": [],
   "source": [
    "def charge_from_solar():   # define function\n",
    "    pass"
   ]
  },
  {
   "cell_type": "code",
   "execution_count": null,
   "id": "efbb4c88",
   "metadata": {},
   "outputs": [],
   "source": [
    "def charge_from_solar(SOC: float) -> None:   # gives arguments to function\n",
    "    \"\"\"Determines the charging status of a battery based on its state of charge (SOC).\n",
    "    Parameters:\n",
    "               SOC (float): \n",
    "    Returns:\n",
    "            None:\n",
    "    Behavior:\n",
    "            -> If SOC < 20%, the function displays \"Charging\"\n",
    "            -> If SOC > 90%, the function does nothing and returns.\n",
    "            -> If 20% <= SOC <= 90%, the function displays \"Battery will be charged\" along with the current SOC.\n",
    "    \"\"\"\n",
    "    \n",
    "print(charge_from_solar.__doc__)  # print docstring"
   ]
  },
  {
   "cell_type": "code",
   "execution_count": null,
   "id": "8beee8d5",
   "metadata": {},
   "outputs": [],
   "source": [
    "def charge_from_solar(SOC: float) -> None:\n",
    "    if SOC < 20:  \n",
    "        print(\"Charging\")\n",
    "    elif SOC > 90:\n",
    "        return\n",
    "    else:\n",
    "        print(f\"Battery will charge and there is {SOC}% of charging\")    "
   ]
  },
  {
   "cell_type": "code",
   "execution_count": null,
   "id": "9f8728c6",
   "metadata": {},
   "outputs": [],
   "source": [
    "print(charge_from_solar(45))     # calling fucntion"
   ]
  },
  {
   "cell_type": "code",
   "execution_count": null,
   "id": "96a04b5d",
   "metadata": {},
   "outputs": [],
   "source": [
    "print(charge_from_solar.__annotations__)  # show the annotation of the function"
   ]
  },
  {
   "cell_type": "code",
   "execution_count": null,
   "id": "fd501dc0",
   "metadata": {},
   "outputs": [],
   "source": [
    "Task No 04"
   ]
  },
  {
   "cell_type": "code",
   "execution_count": null,
   "id": "899692c7",
   "metadata": {},
   "outputs": [],
   "source": [
    "Define three function. Function one name is resistance which will return a list of five resistances.\n",
    "The second function name is voltage which will return a list of voltage across each of these\n",
    "resisters. Include appropriate docstrings. Print the doc string. Also add annotation to the function\n",
    "parameters and return type.\n",
    "* Pass these two lists to a third function name current which will calculate the current\n",
    "flowing through each resister and will return that list to the main program. The main\n",
    "program will print all the three lists in well formatting.\n",
    "* In part a return the data in tuple.\n",
    "* Return the data from current function as dictionary with keys current_1 to current_5. "
   ]
  },
  {
   "cell_type": "code",
   "execution_count": null,
   "id": "114fddde",
   "metadata": {},
   "outputs": [],
   "source": [
    "from typing import List, Tuple, Dict \n",
    "def resistance() -> list[float]:       # function\n",
    "    \"\"\"retrun  a list of resisatance\n",
    "    the list is float\"\"\"\n",
    "    return [10,20,30,40,50]\n",
    "def voltage() -> list[float]:         # function\n",
    "    \"\"\"retrun  a list of voltage\n",
    "    the list is float\"\"\"\n",
    "    return [100,20,300,400,500]\n",
    "print(resistance.__doc__)     # print docstring\n",
    "print(voltage.__doc__)        # print docstring"
   ]
  },
  {
   "cell_type": "code",
   "execution_count": null,
   "id": "9d9ab7fb",
   "metadata": {},
   "outputs": [],
   "source": [
    "resistance()     # calling fucntion"
   ]
  },
  {
   "cell_type": "code",
   "execution_count": null,
   "id": "8565bc39",
   "metadata": {},
   "outputs": [],
   "source": [
    "voltage()      # calling fucntion"
   ]
  },
  {
   "cell_type": "code",
   "execution_count": 45,
   "id": "540194e2",
   "metadata": {},
   "outputs": [
    {
     "ename": "NameError",
     "evalue": "name 'Tuple' is not defined",
     "output_type": "error",
     "traceback": [
      "\u001b[1;31m---------------------------------------------------------------------------\u001b[0m",
      "\u001b[1;31mNameError\u001b[0m                                 Traceback (most recent call last)",
      "Cell \u001b[1;32mIn[45], line 1\u001b[0m\n\u001b[1;32m----> 1\u001b[0m \u001b[38;5;28;01mdef\u001b[39;00m \u001b[38;5;21mcurrent\u001b[39m(resistance: \u001b[38;5;28mlist\u001b[39m[\u001b[38;5;28mfloat\u001b[39m],voltage: \u001b[38;5;28mlist\u001b[39m[\u001b[38;5;28mfloat\u001b[39m]) \u001b[38;5;241m-\u001b[39m\u001b[38;5;241m>\u001b[39m Tuple[\u001b[38;5;28mlist\u001b[39m[\u001b[38;5;28mfloat\u001b[39m],Dict[\u001b[38;5;28mstr\u001b[39m,\u001b[38;5;28mfloat\u001b[39m]]:  \n\u001b[0;32m      2\u001b[0m \u001b[38;5;250m    \u001b[39m\u001b[38;5;124;03m\"\"\"\u001b[39;00m\n\u001b[0;32m      3\u001b[0m \u001b[38;5;124;03m    Calculates the current flowing through each resistor using Ohm's law (I = V/R).    \u001b[39;00m\n\u001b[0;32m      4\u001b[0m \u001b[38;5;124;03m    Parameters: \u001b[39;00m\n\u001b[1;32m   (...)\u001b[0m\n\u001b[0;32m      9\u001b[0m \u001b[38;5;124;03m        - A dictionary where the keys are 'current_1' to 'current_5' and the values are the currents.\u001b[39;00m\n\u001b[0;32m     10\u001b[0m \u001b[38;5;124;03m    \"\"\"\u001b[39;00m\n\u001b[0;32m     11\u001b[0m     currents\u001b[38;5;241m=\u001b[39m[v\u001b[38;5;241m/\u001b[39mr \u001b[38;5;28;01mfor\u001b[39;00m v,r \u001b[38;5;129;01min\u001b[39;00m \u001b[38;5;28mzip\u001b[39m(voltage,resistance)]\n",
      "\u001b[1;31mNameError\u001b[0m: name 'Tuple' is not defined"
     ]
    }
   ],
   "source": [
    "def current(resistance: list[float],voltage: list[float]) -> Tuple[list[float],Dict[str,float]]:  \n",
    "    \"\"\"\n",
    "    Calculates the current flowing through each resistor using Ohm's law (I = V/R).    \n",
    "    Parameters: \n",
    "    List of resistances in ohms.\n",
    "    List of voltages across each resistor in volts. \n",
    "    Returns:tuple[List[float], Dict[str, float]]: A tuple containing:\n",
    "        - A list of currents through each resistor in amperes.\n",
    "        - A dictionary where the keys are 'current_1' to 'current_5' and the values are the currents.\n",
    "    \"\"\"\n",
    "    currents=[v/r for v,r in zip(voltage,resistance)]\n",
    "    current_dict = {f'current_{i+1}': currents[i] for i in range(len(currents))}\n",
    "    return currents, current_dict\n",
    "print(current.__doc__)     # print docstring\n",
    "\n",
    "resistances = resistance()\n",
    "voltages = voltage()\n",
    "currents,current_dict = current(voltages,resistances)"
   ]
  },
  {
   "cell_type": "code",
   "execution_count": 46,
   "id": "705fcb1d",
   "metadata": {},
   "outputs": [
    {
     "ename": "NameError",
     "evalue": "name 'currents' is not defined",
     "output_type": "error",
     "traceback": [
      "\u001b[1;31m---------------------------------------------------------------------------\u001b[0m",
      "\u001b[1;31mNameError\u001b[0m                                 Traceback (most recent call last)",
      "Cell \u001b[1;32mIn[46], line 1\u001b[0m\n\u001b[1;32m----> 1\u001b[0m \u001b[38;5;28mprint\u001b[39m(currents,)        \u001b[38;5;66;03m# calling fucntion \u001b[39;00m\n\u001b[0;32m      2\u001b[0m \u001b[38;5;28mprint\u001b[39m(current_dict,)\n",
      "\u001b[1;31mNameError\u001b[0m: name 'currents' is not defined"
     ]
    }
   ],
   "source": [
    "print(currents,)        # calling fucntion \n",
    "print(current_dict,)    # calliprint(resistance.__annotations__)      # show the annotation of the functionng fucntionprint(voltage.__annotations__)         # show the annotation of the function"
   ]
  },
  {
   "cell_type": "code",
   "execution_count": 47,
   "id": "912aa04c",
   "metadata": {},
   "outputs": [
    {
     "ename": "SyntaxError",
     "evalue": "leading zeros in decimal integer literals are not permitted; use an 0o prefix for octal integers (2744987365.py, line 1)",
     "output_type": "error",
     "traceback": [
      "\u001b[1;36m  Cell \u001b[1;32mIn[47], line 1\u001b[1;36m\u001b[0m\n\u001b[1;33m    Task NO 05\u001b[0m\n\u001b[1;37m            ^\u001b[0m\n\u001b[1;31mSyntaxError\u001b[0m\u001b[1;31m:\u001b[0m leading zeros in decimal integer literals are not permitted; use an 0o prefix for octal integers\n"
     ]
    }
   ],
   "source": [
    "Task NO 05"
   ]
  },
  {
   "cell_type": "code",
   "execution_count": 48,
   "id": "726903c4",
   "metadata": {},
   "outputs": [
    {
     "ename": "SyntaxError",
     "evalue": "invalid syntax (3862970712.py, line 1)",
     "output_type": "error",
     "traceback": [
      "\u001b[1;36m  Cell \u001b[1;32mIn[48], line 1\u001b[1;36m\u001b[0m\n\u001b[1;33m    Define a function with name series. The function will take a list or tuple of resisters. The function\u001b[0m\n\u001b[1;37m           ^\u001b[0m\n\u001b[1;31mSyntaxError\u001b[0m\u001b[1;31m:\u001b[0m invalid syntax\n"
     ]
    }
   ],
   "source": [
    "Define a function with name series. The function will take a list or tuple of resisters. The function\n",
    "will return the net resistance. Note that your function must be capable for any number of\n",
    "resisters. Note: Use elegant approach. Include appropriate docstrings. Print the doc string. Also\n",
    "add annotation to the function parameters and return type. In addition, display annotation using\n",
    "special dunder attribute of the function called *__annotations__.*"
   ]
  },
  {
   "cell_type": "code",
   "execution_count": 49,
   "id": "76163c25",
   "metadata": {},
   "outputs": [],
   "source": [
    "def series():\n",
    "    pass"
   ]
  },
  {
   "cell_type": "code",
   "execution_count": 50,
   "id": "0e8d1331",
   "metadata": {},
   "outputs": [
    {
     "name": "stdout",
     "output_type": "stream",
     "text": [
      " function which retrun  net resistance\n",
      "    paramter are resistance in the form of list\n",
      "    retrun net resistance\n",
      "    \n"
     ]
    }
   ],
   "source": [
    "def series(lst1=[]):     # define function\n",
    "    \"\"\" function which retrun  net resistance\n",
    "    paramter are resistance in the form of list\n",
    "    retrun net resistance\n",
    "    \"\"\"\n",
    "    return sum(lst1)\n",
    "print(series.__doc__)    # print docstring"
   ]
  },
  {
   "cell_type": "code",
   "execution_count": 51,
   "id": "94ae6691",
   "metadata": {},
   "outputs": [
    {
     "data": {
      "text/plain": [
       "6"
      ]
     },
     "execution_count": 51,
     "metadata": {},
     "output_type": "execute_result"
    }
   ],
   "source": [
    "series([3,3])       # calling fucntion"
   ]
  },
  {
   "cell_type": "code",
   "execution_count": 52,
   "id": "a380e829",
   "metadata": {},
   "outputs": [
    {
     "data": {
      "text/plain": [
       "25"
      ]
     },
     "execution_count": 52,
     "metadata": {},
     "output_type": "execute_result"
    }
   ],
   "source": [
    "series([3,4,5,6,7])   # calling fucntion"
   ]
  },
  {
   "cell_type": "code",
   "execution_count": 53,
   "id": "dfcbe9c2",
   "metadata": {},
   "outputs": [
    {
     "name": "stdout",
     "output_type": "stream",
     "text": [
      "{}\n"
     ]
    }
   ],
   "source": [
    "print(series.__annotations__)     # show the annotation of the function"
   ]
  },
  {
   "cell_type": "code",
   "execution_count": 54,
   "id": "82f05360",
   "metadata": {},
   "outputs": [
    {
     "ename": "SyntaxError",
     "evalue": "invalid syntax (1140245247.py, line 1)",
     "output_type": "error",
     "traceback": [
      "\u001b[1;36m  Cell \u001b[1;32mIn[54], line 1\u001b[1;36m\u001b[0m\n\u001b[1;33m    Task no 6\u001b[0m\n\u001b[1;37m         ^\u001b[0m\n\u001b[1;31mSyntaxError\u001b[0m\u001b[1;31m:\u001b[0m invalid syntax\n"
     ]
    }
   ],
   "source": [
    "Task no 6"
   ]
  },
  {
   "cell_type": "code",
   "execution_count": 55,
   "id": "28df13f8",
   "metadata": {},
   "outputs": [
    {
     "ename": "SyntaxError",
     "evalue": "invalid syntax (4119331682.py, line 1)",
     "output_type": "error",
     "traceback": [
      "\u001b[1;36m  Cell \u001b[1;32mIn[55], line 1\u001b[1;36m\u001b[0m\n\u001b[1;33m    Define a function with name parallel. The function will take a list or tuple of resisters. The function\u001b[0m\n\u001b[1;37m           ^\u001b[0m\n\u001b[1;31mSyntaxError\u001b[0m\u001b[1;31m:\u001b[0m invalid syntax\n"
     ]
    }
   ],
   "source": [
    "Define a function with name parallel. The function will take a list or tuple of resisters. The function\n",
    "will return the net resistance. Note that your function must be capable for any number of\n",
    "resisters. Note: Use elegant approach. Include appropriate docstrings. Print the doc string. Also\n",
    "add annotation to the function parameters and return type. In addition, display annotation using\n",
    "special dunder attribute of the function called __annotations__Define a function with name parallel. The function will take a list or tuple of resisters. The function\n",
    "will return the net resistance. Note that your function must be capable for any number of\n",
    "resisters. Note: Use elegant approach. Include appropriate docstrings. Print the doc string. Also\n",
    "add annotation to the function parameters and return type. In addition, display annotation using\n",
    "special dunder attribute of the function called __annotations__"
   ]
  },
  {
   "cell_type": "code",
   "execution_count": 56,
   "id": "9936bcbd",
   "metadata": {},
   "outputs": [],
   "source": [
    "def parallal(list1=[]):       # define function\n",
    "    pass"
   ]
  },
  {
   "cell_type": "code",
   "execution_count": 57,
   "id": "8dc28dc3",
   "metadata": {},
   "outputs": [
    {
     "name": "stdout",
     "output_type": "stream",
     "text": [
      " function calculate net resistance\n",
      "    paramter is resistances in the form of list\n",
      "    retrun net resistance in pararllal\n",
      "    \n"
     ]
    }
   ],
   "source": [
    "def parallal(list1=[]):\n",
    "    \"\"\" function calculate net resistance\n",
    "    paramter is resistances in the form of list\n",
    "    retrun net resistance in pararllal\n",
    "    \"\"\"\n",
    "    return 1 / sum(1/x for x in list1) \n",
    "print(parallal.__doc__)     # print docstring"
   ]
  },
  {
   "cell_type": "code",
   "execution_count": 58,
   "id": "ec3570c8",
   "metadata": {},
   "outputs": [
    {
     "name": "stdout",
     "output_type": "stream",
     "text": [
      "2.0\n"
     ]
    }
   ],
   "source": [
    "print(parallal([4,4]))           # calling fucntion"
   ]
  },
  {
   "cell_type": "code",
   "execution_count": 59,
   "id": "9ad50f16",
   "metadata": {},
   "outputs": [
    {
     "name": "stdout",
     "output_type": "stream",
     "text": [
      "1.12\n"
     ]
    }
   ],
   "source": [
    "print(parallal([3,4,6,7]))      # calling fucntion"
   ]
  },
  {
   "cell_type": "code",
   "execution_count": 60,
   "id": "8a493380",
   "metadata": {},
   "outputs": [
    {
     "ename": "SyntaxError",
     "evalue": "leading zeros in decimal integer literals are not permitted; use an 0o prefix for octal integers (407044073.py, line 1)",
     "output_type": "error",
     "traceback": [
      "\u001b[1;36m  Cell \u001b[1;32mIn[60], line 1\u001b[1;36m\u001b[0m\n\u001b[1;33m    Task No 07\u001b[0m\n\u001b[1;37m            ^\u001b[0m\n\u001b[1;31mSyntaxError\u001b[0m\u001b[1;31m:\u001b[0m leading zeros in decimal integer literals are not permitted; use an 0o prefix for octal integers\n"
     ]
    }
   ],
   "source": [
    "Task No 07"
   ]
  },
  {
   "cell_type": "code",
   "execution_count": 61,
   "id": "2cc2c979",
   "metadata": {},
   "outputs": [
    {
     "ename": "SyntaxError",
     "evalue": "invalid syntax (2581384450.py, line 1)",
     "output_type": "error",
     "traceback": [
      "\u001b[1;36m  Cell \u001b[1;32mIn[61], line 1\u001b[1;36m\u001b[0m\n\u001b[1;33m    Define a function with name series. The function will take resisters values and use *args for tuple\u001b[0m\n\u001b[1;37m           ^\u001b[0m\n\u001b[1;31mSyntaxError\u001b[0m\u001b[1;31m:\u001b[0m invalid syntax\n"
     ]
    }
   ],
   "source": [
    "Define a function with name series. The function will take resisters values and use *args for tuple\n",
    "packing. The function will return the net resistance. Note that your function must be capable for\n",
    "any number of resisters. Note: Use elegant approach. Include appropriate docstrings. Also add\n",
    "annotation to the function parameters and return type. In addition, display annotation using\n",
    "special dunder attribute of the function called __annotations__."
   ]
  },
  {
   "cell_type": "code",
   "execution_count": 62,
   "id": "8c4b610c",
   "metadata": {},
   "outputs": [],
   "source": [
    "def series():    # define function\n",
    "    pass"
   ]
  },
  {
   "cell_type": "code",
   "execution_count": 63,
   "id": "9cc889eb",
   "metadata": {},
   "outputs": [
    {
     "name": "stdout",
     "output_type": "stream",
     "text": [
      "function calculate net resistance\n",
      "parameter is resistances in the form of tuple\n",
      "retrun net resistance in pararllal\n",
      "    \n"
     ]
    }
   ],
   "source": [
    "def series(*resistance: float) -> float:\n",
    "    \"\"\"function calculate net resistance\n",
    "parameter is resistances in the form of tuple\n",
    "retrun net resistance in pararllal\n",
    "    \"\"\"\n",
    "    return sum(resistance)\n",
    "print(series.__doc__)      # print docstring"
   ]
  },
  {
   "cell_type": "code",
   "execution_count": 64,
   "id": "4db0c42a",
   "metadata": {},
   "outputs": [
    {
     "name": "stdout",
     "output_type": "stream",
     "text": [
      "7\n"
     ]
    }
   ],
   "source": [
    "print(series(2,5))        # calling fucntion"
   ]
  },
  {
   "cell_type": "code",
   "execution_count": 65,
   "id": "f18f0737",
   "metadata": {},
   "outputs": [
    {
     "name": "stdout",
     "output_type": "stream",
     "text": [
      "39\n"
     ]
    }
   ],
   "source": [
    "print(series(4,5,7,2,8,9,4))   # calling fucntion"
   ]
  },
  {
   "cell_type": "markdown",
   "id": "d81d4b3d",
   "metadata": {},
   "source": [
    "# Task No 08"
   ]
  },
  {
   "cell_type": "markdown",
   "id": "7862ac51",
   "metadata": {},
   "source": [
    "## Define a function with name parallel. The function will take resisters values and use *argsfor tuplepacking. The function will return the net resistance. Note that your function must be capable forany number of resisters. Note: Use elegant approach. Include appropriate docstrings. Print thedoc string. Also add annotation to the function parameters and return type. In addition, displayannotation using special dunder attribute of the function called __annotations__."
   ]
  },
  {
   "cell_type": "code",
   "execution_count": 66,
   "id": "413158fd",
   "metadata": {},
   "outputs": [],
   "source": [
    "def parallal():       # define function\n",
    "    pass"
   ]
  },
  {
   "cell_type": "code",
   "execution_count": 67,
   "id": "5840ef6b",
   "metadata": {},
   "outputs": [
    {
     "name": "stdout",
     "output_type": "stream",
     "text": [
      "function calculate net resistance\n",
      "parameter is resistances in the form of tuple\n",
      "retrun net resistance in pararllal\n",
      "    \n"
     ]
    }
   ],
   "source": [
    "def parallal(*resistance: float) -> float:\n",
    "    \"\"\"function calculate net resistance\n",
    "parameter is resistances in the form of tuple\n",
    "retrun net resistance in pararllal\n",
    "    \"\"\"\n",
    "    return 1 / sum(1/x for x in resistance)\n",
    "print(parallal.__doc__)    # print docstring"
   ]
  },
  {
   "cell_type": "code",
   "execution_count": 68,
   "id": "ce9872b9",
   "metadata": {},
   "outputs": [
    {
     "name": "stdout",
     "output_type": "stream",
     "text": [
      "3.0\n"
     ]
    }
   ],
   "source": [
    "print(parallal(6,6))   # calling fucntion"
   ]
  },
  {
   "cell_type": "code",
   "execution_count": 69,
   "id": "ae350046",
   "metadata": {},
   "outputs": [
    {
     "name": "stdout",
     "output_type": "stream",
     "text": [
      "0.49084534476042074\n"
     ]
    }
   ],
   "source": [
    "print(parallal(2,3,4,5,6,7,3,9))     # calling fucntion"
   ]
  },
  {
   "cell_type": "code",
   "execution_count": 70,
   "id": "4ef97559",
   "metadata": {},
   "outputs": [
    {
     "name": "stdout",
     "output_type": "stream",
     "text": [
      "{'resistance': <class 'float'>, 'return': <class 'float'>}\n"
     ]
    }
   ],
   "source": [
    "print(parallal.__annotations__)    # show the annotation of the function"
   ]
  },
  {
   "cell_type": "markdown",
   "id": "71e8ccf8",
   "metadata": {},
   "source": [
    "# Task NO 09"
   ]
  },
  {
   "cell_type": "markdown",
   "id": "f7d194d4",
   "metadata": {},
   "source": [
    "Consider a scenario in which you receive the data of battery SOC (% age), solar generation (Kw)\n",
    "and market price (per unit in rupees) from a hybrid solar inverter that are connected with green\n",
    "meter in a list or tuple like [60, 2, 60] or (60, 2, 60). Design a function that will print these values\n",
    "in a well format. Note use the tuple or list unpacking. Include appropriate docstrings. Print the\n",
    "doc string. Also add annotation to the function parameters and return type. In addition, display\n",
    "annotation using special dunder attribute of the function called __annotations__."
   ]
  },
  {
   "cell_type": "code",
   "execution_count": 71,
   "id": "deaf1d4a",
   "metadata": {},
   "outputs": [],
   "source": [
    "def display_inverter_data():      # define function\n",
    "    pass"
   ]
  },
  {
   "cell_type": "code",
   "execution_count": 72,
   "id": "ac85a07e",
   "metadata": {},
   "outputs": [
    {
     "name": "stdout",
     "output_type": "stream",
     "text": [
      "Function that takes the data as tuple\n",
      "    it show the data or display it in well format:\n",
      "    return:\n",
      "           None\n",
      "            battery SOC(% age)\n",
      "            solar generation (kw)\n",
      "            market price (per unit in rupees)\n",
      "    \n"
     ]
    }
   ],
   "source": [
    "from typing import Tuple,List,Dict\n",
    "def display_inverter_data(data: Tuple) -> None:\n",
    "    \"\"\"Function that takes the data as tuple\n",
    "    it show the data or display it in well format:\n",
    "    return:\n",
    "           None\n",
    "            battery SOC(% age)\n",
    "            solar generation (kw)\n",
    "            market price (per unit in rupees)\n",
    "    \"\"\"\n",
    "     # unpacking the tuple\n",
    "    battery_soc, solar_genr, market_price = data \n",
    "    # In well_formating data\n",
    "    print(f\"Batter_SOC = {battery_soc}%\")        \n",
    "    print(f\"Solar_Generation = {solar_genr} kw\")\n",
    "    print(f\"Market_price = {market_price} Rs/unit\")\n",
    "print(display_inverter_data.__doc__)     # print docstring"
   ]
  },
  {
   "cell_type": "code",
   "execution_count": 73,
   "id": "55d59105",
   "metadata": {},
   "outputs": [
    {
     "name": "stdout",
     "output_type": "stream",
     "text": [
      "Batter_SOC = 90%\n",
      "Solar_Generation = 2.5 kw\n",
      "Market_price = 45 Rs/unit\n"
     ]
    }
   ],
   "source": [
    "inverter_data = (90,2.5,45)\n",
    "display_inverter_data(inverter_data)    # calling fucntion"
   ]
  },
  {
   "cell_type": "code",
   "execution_count": 74,
   "id": "80e23c68",
   "metadata": {},
   "outputs": [
    {
     "name": "stdout",
     "output_type": "stream",
     "text": [
      "{'data': typing.Tuple, 'return': None}\n"
     ]
    }
   ],
   "source": [
    "print(display_inverter_data.__annotations__)    # show the annotation of the function"
   ]
  },
  {
   "cell_type": "markdown",
   "id": "44bff5b9",
   "metadata": {},
   "source": [
    "# Task NO 10"
   ]
  },
  {
   "cell_type": "markdown",
   "id": "a306a19c",
   "metadata": {},
   "source": [
    "### The more elegant approach is to pass dictionary and use dictionary unpacking. Consider ascenario in which you receive the data of battery SOC (% age), solar generation (Kw) and marketprice (per unit in rupees) from a hybrid solar inverter that are connected with green meter in adictionary like {‘SOC’: 60, ‘solar generation’: 2, ‘price’: 60}. Design a function that will receivethis dictionary and print these values in a well format. Include appropriate docstrings. Also addannotation to the function parameters and return type. In addition, display annotation usingspecial dunder attribute of the function called __annotations__."
   ]
  },
  {
   "cell_type": "code",
   "execution_count": 75,
   "id": "7b27a9fd",
   "metadata": {},
   "outputs": [],
   "source": [
    "def display_inverter_data():  # define function\n",
    "    pass"
   ]
  },
  {
   "cell_type": "code",
   "execution_count": 76,
   "id": "e932cf3f",
   "metadata": {},
   "outputs": [
    {
     "name": "stdout",
     "output_type": "stream",
     "text": [
      "Function that pass the data as dictionary and use dictionary unpacking .\n",
      "    return: \n",
      "           None\n",
      "    it show the data or display it in well format:\n",
      "            battery SOC(% age)\n",
      "            solar generation (kw)\n",
      "            market price (per unit in rupees)\n",
      "    \n"
     ]
    }
   ],
   "source": [
    "def display_inverter_data(inverter_data: dict) -> None:\n",
    "    \"\"\"Function that pass the data as dictionary and use dictionary unpacking .\n",
    "    return: \n",
    "           None\n",
    "    it show the data or display it in well format:\n",
    "            battery SOC(% age)\n",
    "            solar generation (kw)\n",
    "            market price (per unit in rupees)\n",
    "    \"\"\"\n",
    "     # unpacking the dictionary\n",
    "    Battery_soc = inverter_data.get('Battery_soc')\n",
    "    solar_genr = inverter_data.get('solar_genr')\n",
    "    market_price = inverter_data.get('market_price')\n",
    "    # In well_formating data\n",
    "    print(f\"Batter SOC: {Battery_soc}%\")\n",
    "    print(f\"Solar Generation: {solar_genr} kw\")\n",
    "    print(f\"Market price: {market_price} Rs/unit\")\n",
    "    \n",
    "print(display_inverter_data.__doc__)    # print docstring"
   ]
  },
  {
   "cell_type": "code",
   "execution_count": 77,
   "id": "145dbcf4",
   "metadata": {},
   "outputs": [
    {
     "name": "stdout",
     "output_type": "stream",
     "text": [
      "Batter SOC: 59%\n",
      "Solar Generation: 3 kw\n",
      "Market price: 33 Rs/unit\n"
     ]
    }
   ],
   "source": [
    "data = {'Battery_soc': 59, 'solar_genr': 3, 'market_price': 33}\n",
    "display_inverter_data(data)    # calling function"
   ]
  },
  {
   "cell_type": "code",
   "execution_count": 78,
   "id": "6d866174",
   "metadata": {},
   "outputs": [
    {
     "name": "stdout",
     "output_type": "stream",
     "text": [
      "{'inverter_data': <class 'dict'>, 'return': None}\n"
     ]
    }
   ],
   "source": [
    "print(display_inverter_data.__annotations__)      # show the annotation of the function"
   ]
  },
  {
   "cell_type": "markdown",
   "id": "363a2cf3",
   "metadata": {},
   "source": [
    "# Task No 11"
   ]
  },
  {
   "cell_type": "markdown",
   "id": "3d49ea94",
   "metadata": {},
   "source": [
    "Change the scenario while keep the more elegant approach of pass dictionary and use dictionarypacking. Consider a scenario in which you receive the data of battery SOC (% age), solargeneration (Kw) and market price (per unit in rupees) from a hybrid solar inverter that areconnected with green meter in a dictionary like {‘SOC’: 60, ‘solar generation’: 2, ‘price’: 60}. Letyou pass these value in a function call like solar (SOC = 60, solar generation = 2, price = 60).Design a function that will receive these argument as a dictionary and print these values in awell format. Include appropriate docstrings. Also add annotation to the function parameters andreturn type. In addition, display annotation using special dunder attribute of the functioncalled __annotations__."
   ]
  },
  {
   "cell_type": "code",
   "execution_count": 79,
   "id": "76373027",
   "metadata": {},
   "outputs": [],
   "source": [
    "def solar():      # define function\n",
    "    pass"
   ]
  },
  {
   "cell_type": "code",
   "execution_count": 80,
   "id": "824fb72d",
   "metadata": {},
   "outputs": [
    {
     "name": "stdout",
     "output_type": "stream",
     "text": [
      "Function that pass the data as dictionary and use dictionary unpacking but you can pass these\n",
      "    value in a function call.\n",
      "    return: \n",
      "           None\n",
      "    it show the data or display it in well format:\n",
      "            battery SOC(% age)\n",
      "            solar generation (kw)\n",
      "            market price (per unit in rupees)\n",
      "    \n"
     ]
    }
   ],
   "source": [
    "def solar(**data: dict) -> None:\n",
    "    \"\"\"Function that pass the data as dictionary and use dictionary unpacking but you can pass these\n",
    "    value in a function call.\n",
    "    return: \n",
    "           None\n",
    "    it show the data or display it in well format:\n",
    "            battery SOC(% age)\n",
    "            solar generation (kw)\n",
    "            market price (per unit in rupees)\n",
    "    \"\"\"\n",
    "     # unpacking the dictionary\n",
    "    SOC = data.get('SOC')\n",
    "    Generation = data.get('Generation')\n",
    "    Price = data.get('Price')\n",
    "    # In well_formating data\n",
    "    print(f\"SOC: {SOC}%\")\n",
    "    print(f\"Solar Generation: {Generation} kw\")\n",
    "    print(f\"Price: {Price} Rs/unit\")\n",
    "    \n",
    "print(solar.__doc__)     # print docstring"
   ]
  },
  {
   "cell_type": "code",
   "execution_count": 81,
   "id": "007faa42",
   "metadata": {},
   "outputs": [
    {
     "name": "stdout",
     "output_type": "stream",
     "text": [
      "SOC: 90%\n",
      "Solar Generation: 1.5 kw\n",
      "Price: 55 Rs/unit\n",
      "None\n"
     ]
    }
   ],
   "source": [
    "Data={'SOC': 90, 'Generation': 1.5, 'Price': 55}\n",
    "print(solar(**Data))  # calling function with unpacking dictionary"
   ]
  },
  {
   "cell_type": "code",
   "execution_count": 82,
   "id": "fb4f983b",
   "metadata": {},
   "outputs": [
    {
     "name": "stdout",
     "output_type": "stream",
     "text": [
      "{'data': <class 'dict'>, 'return': None}\n"
     ]
    }
   ],
   "source": [
    "print(solar.__annotations__)        # show the annotation of the function"
   ]
  },
  {
   "cell_type": "markdown",
   "id": "1291ee40",
   "metadata": {},
   "source": [
    "##### xii. Understand the functions given below by run, modify and also design different scenarios. "
   ]
  },
  {
   "cell_type": "code",
   "execution_count": 83,
   "id": "7f850655",
   "metadata": {},
   "outputs": [
    {
     "name": "stdout",
     "output_type": "stream",
     "text": [
      "a = 1\n",
      "b = 2\n",
      "args = ('foo', 'bar', 'baz', 'qux')\n",
      "kwargs = {'x': 100, 'y': 200, 'z': 300}\n"
     ]
    }
   ],
   "source": [
    "def f(a, b, *args, **kwargs):\n",
    " print(F'a = {a}')\n",
    " print(F'b = {b}')\n",
    " print(F'args = {args}')\n",
    " print(F'kwargs = {kwargs}')\n",
    "f(1, 2, 'foo', 'bar', 'baz', 'qux', x=100, y=200, z=300)"
   ]
  },
  {
   "cell_type": "code",
   "execution_count": 84,
   "id": "c557ebe0",
   "metadata": {},
   "outputs": [
    {
     "name": "stdout",
     "output_type": "stream",
     "text": [
      "1\n",
      "2\n",
      "3\n",
      "4\n",
      "5\n",
      "6\n",
      "8\n",
      "9\n",
      "7\n"
     ]
    }
   ],
   "source": [
    "def f(*args):\n",
    "    for i in args:\n",
    "        print(i)\n",
    "a = [1, 2, 3]\n",
    "t = (4, 5, 6)\n",
    "s = {7, 8, 9}\n",
    "f(*a, *t, *s)"
   ]
  },
  {
   "cell_type": "code",
   "execution_count": 85,
   "id": "735e59a7",
   "metadata": {},
   "outputs": [
    {
     "name": "stdout",
     "output_type": "stream",
     "text": [
      "a -> 1\n",
      "b -> 2\n",
      "x -> 3\n",
      "y -> 4\n"
     ]
    }
   ],
   "source": [
    "def f(**kwargs):\n",
    "    for k, v in kwargs.items():\n",
    "        print(k, '->', v)\n",
    "d1 = {'a': 1, 'b': 2}\n",
    "d2 = {'x': 3, 'y': 4}\n",
    "f(**d1, **d2)"
   ]
  },
  {
   "cell_type": "code",
   "execution_count": 86,
   "id": "a4a0ac74",
   "metadata": {},
   "outputs": [
    {
     "name": "stdout",
     "output_type": "stream",
     "text": [
      "1\n",
      "2\n",
      "3\n",
      "4\n",
      "5\n",
      "6\n"
     ]
    }
   ],
   "source": [
    "def f(*args):\n",
    "    for i in args:\n",
    "        print(i)\n",
    "f(*[1, 2, 3], *[4, 5, 6])"
   ]
  },
  {
   "cell_type": "code",
   "execution_count": 87,
   "id": "cc632f5e",
   "metadata": {},
   "outputs": [
    {
     "name": "stdout",
     "output_type": "stream",
     "text": [
      "a -> 1\n",
      "b -> 2\n",
      "x -> 3\n",
      "y -> 4\n"
     ]
    }
   ],
   "source": [
    "def f(**kwargs):\n",
    "    for k, v in kwargs.items():\n",
    "        print(k, '->', v)\n",
    "f(**{'a': 1, 'b': 2}, **{'x': 3, 'y': 4})"
   ]
  },
  {
   "cell_type": "code",
   "execution_count": 88,
   "id": "785024bd",
   "metadata": {},
   "outputs": [
    {
     "data": {
      "text/plain": [
       "{'a': int, 'b': str, 'return': float}"
      ]
     },
     "execution_count": 88,
     "metadata": {},
     "output_type": "execute_result"
    }
   ],
   "source": [
    "def f(a: int, b: str) -> float:\n",
    "    print(a, b)\n",
    "    return(3.5)\n",
    "    f(1, 'foo')\n",
    "f.__annotations__\n"
   ]
  },
  {
   "cell_type": "code",
   "execution_count": 89,
   "id": "fca8f825",
   "metadata": {},
   "outputs": [
    {
     "ename": "SyntaxError",
     "evalue": "invalid syntax (1668951262.py, line 1)",
     "output_type": "error",
     "traceback": [
      "\u001b[1;36m  Cell \u001b[1;32mIn[89], line 1\u001b[1;36m\u001b[0m\n\u001b[1;33m    If you want to assign a default value to a parameter that has an annotation,\u001b[0m\n\u001b[1;37m       ^\u001b[0m\n\u001b[1;31mSyntaxError\u001b[0m\u001b[1;31m:\u001b[0m invalid syntax\n"
     ]
    }
   ],
   "source": [
    "If you want to assign a default value to a parameter that has an annotation,\n",
    "then the default value goes after the annotation:"
   ]
  },
  {
   "cell_type": "code",
   "execution_count": 90,
   "id": "6b8f063d",
   "metadata": {},
   "outputs": [
    {
     "name": "stdout",
     "output_type": "stream",
     "text": [
      "12 baz\n"
     ]
    },
    {
     "data": {
      "text/plain": [
       "3.5"
      ]
     },
     "execution_count": 90,
     "metadata": {},
     "output_type": "execute_result"
    }
   ],
   "source": [
    "def f(a: int = 12, b: str = 'baz') -> float:\n",
    "    print(a, b)\n",
    "    return(3.5)\n",
    "f.__annotations__\n",
    "f()"
   ]
  },
  {
   "cell_type": "markdown",
   "id": "0fa99dd7",
   "metadata": {},
   "source": [
    "Annotations don’t impose any semantic restrictions on the code\n",
    "whatsoever.\n",
    "What’s going on here? The annotations for f() indicate that the first\n",
    "argument is int, the second argument str, and the return value float. But the\n",
    "subsequent call to f() breaks all the rules! The arguments are str and float,\n",
    "respectively, and the return value is a tuple. Yet the interpreter lets it all slide\n",
    "with no complaint at all."
   ]
  },
  {
   "cell_type": "code",
   "execution_count": 91,
   "id": "7978d9c8",
   "metadata": {},
   "outputs": [
    {
     "name": "stdout",
     "output_type": "stream",
     "text": [
      "foo 2.5\n"
     ]
    },
    {
     "data": {
      "text/plain": [
       "(1, 2, 3)"
      ]
     },
     "execution_count": 91,
     "metadata": {},
     "output_type": "execute_result"
    }
   ],
   "source": [
    "def f(a: int, b: str) -> float:\n",
    " print(a, b)\n",
    " return 1, 2, 3\n",
    "f('foo', 2.5)"
   ]
  },
  {
   "cell_type": "markdown",
   "id": "8d341312",
   "metadata": {},
   "source": [
    "**String:**"
   ]
  },
  {
   "cell_type": "markdown",
   "id": "8d1f3df2",
   "metadata": {},
   "source": [
    "Use F-String for three string formatting."
   ]
  },
  {
   "cell_type": "code",
   "execution_count": 92,
   "id": "141f2e5e",
   "metadata": {},
   "outputs": [
    {
     "name": "stdout",
     "output_type": "stream",
     "text": [
      "My name is Yahya Ahamd, and my Reg No is 23jze0528\n"
     ]
    }
   ],
   "source": [
    "# f-string\n",
    "name = 'Yahya Ahamd'\n",
    "Reg_No = '23jze0528'\n",
    "student=f\"My name is {name}, and my Reg No is {Reg_No}\"\n",
    "print(student)"
   ]
  },
  {
   "cell_type": "markdown",
   "id": "396d8630",
   "metadata": {},
   "source": [
    "Use .capitalize() for three examples. "
   ]
  },
  {
   "cell_type": "code",
   "execution_count": 93,
   "id": "627528cc",
   "metadata": {},
   "outputs": [
    {
     "name": "stdout",
     "output_type": "stream",
     "text": [
      "Yahya\n",
      "Electrical\n",
      "Power\n"
     ]
    }
   ],
   "source": [
    "name = 'yahya'\n",
    "department = 'electrical'\n",
    "section = 'power'\n",
    "print(name.capitalize())\n",
    "print(department.capitalize())\n",
    "print(section.capitalize())"
   ]
  },
  {
   "cell_type": "markdown",
   "id": "4c2dcd8b",
   "metadata": {},
   "source": [
    "Use .format(*args, **kwargs) for five example formatting."
   ]
  },
  {
   "cell_type": "code",
   "execution_count": 94,
   "id": "10d8264e",
   "metadata": {},
   "outputs": [
    {
     "name": "stdout",
     "output_type": "stream",
     "text": [
      "I am Yahya and my reg no is 23jzele0528\n",
      "In our room 3 bad, and also contain 1 table\n",
      "i have 4 pen, 1 book, and 8 copies\n"
     ]
    }
   ],
   "source": [
    "# .format ()\n",
    "student=\"I am {0} and my reg no is {1}\"\n",
    "print(student.format('Yahya','23jzele0528'))\n",
    "room = \"In our room {} bad, and also contain {} table\"\n",
    "print(room.format(3,1))\n",
    "my_bag=\"i have {} pen, {} book, and {} copies\"\n",
    "print(my_bag.format(4,1,8))"
   ]
  },
  {
   "cell_type": "markdown",
   "id": "42410b3f",
   "metadata": {},
   "source": [
    "Use .lower() for three examples."
   ]
  },
  {
   "cell_type": "markdown",
   "id": "235dde35",
   "metadata": {},
   "source": [
    "Some method on string return true false and they are frequently use in different applications.\n",
    "Use .isdigit(),.islower(), and .isnumeric() in two example. I"
   ]
  },
  {
   "cell_type": "code",
   "execution_count": 95,
   "id": "8f3b7768",
   "metadata": {},
   "outputs": [
    {
     "name": "stdout",
     "output_type": "stream",
     "text": [
      "True\n",
      "False\n"
     ]
    }
   ],
   "source": [
    "a = \"23435\"\n",
    "c = \"yahya\"\n",
    "print(a.isdigit())\n",
    "print(c.isdigit())"
   ]
  },
  {
   "cell_type": "code",
   "execution_count": 96,
   "id": "4f01dd87",
   "metadata": {},
   "outputs": [
    {
     "name": "stdout",
     "output_type": "stream",
     "text": [
      "True\n",
      "False\n"
     ]
    }
   ],
   "source": [
    "name = \"yahya\"\n",
    "name1 = \"YAHYA\"\n",
    "print(name.islower())\n",
    "print(name1.islower())"
   ]
  },
  {
   "cell_type": "code",
   "execution_count": 97,
   "id": "b830ffa7",
   "metadata": {},
   "outputs": [
    {
     "name": "stdout",
     "output_type": "stream",
     "text": [
      "True\n",
      "False\n"
     ]
    }
   ],
   "source": [
    "b = \"944239\"\n",
    "d = \"hello\"\n",
    "print(b.isnumeric())\n",
    "print(d.isnumeric())"
   ]
  },
  {
   "cell_type": "markdown",
   "id": "a15daa3c",
   "metadata": {},
   "source": [
    "Some other string operation required other methods. Use .split() for two example. "
   ]
  },
  {
   "cell_type": "code",
   "execution_count": 98,
   "id": "f52b9b40",
   "metadata": {},
   "outputs": [
    {
     "name": "stdout",
     "output_type": "stream",
     "text": [
      "['I', 'am', 'Yahya', 'Ahmad']\n",
      "['how', 'are', 'you', 'I', 'am', 'Yahya', 'Ahmad']\n"
     ]
    }
   ],
   "source": [
    "name =\"I am Yahya Ahmad\"\n",
    "hey = f\"how are you {name}\"\n",
    "print(name.split())\n",
    "print(hey.split())"
   ]
  }
 ],
 "metadata": {
  "kernelspec": {
   "display_name": "Python 3 (ipykernel)",
   "language": "python",
   "name": "python3"
  },
  "language_info": {
   "codemirror_mode": {
    "name": "ipython",
    "version": 3
   },
   "file_extension": ".py",
   "mimetype": "text/x-python",
   "name": "python",
   "nbconvert_exporter": "python",
   "pygments_lexer": "ipython3",
   "version": "3.11.5"
  }
 },
 "nbformat": 4,
 "nbformat_minor": 5
}
